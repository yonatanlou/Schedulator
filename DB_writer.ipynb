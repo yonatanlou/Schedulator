{
 "cells": [
  {
   "cell_type": "code",
   "execution_count": 84,
   "metadata": {},
   "outputs": [],
   "source": [
    "# !pip install import-ipynb\n",
    "\n",
    "import import_ipynb\n",
    "import maslulim_scraper\n",
    "import psycopg2\n",
    "from sqlalchemy import create_engine\n",
    "import pandas as pd\n",
    "import numpy as np\n",
    "import sql\n"
   ]
  },
  {
   "cell_type": "markdown",
   "metadata": {},
   "source": [
    "todo:\n",
    "make the table hugim again and to think about the primary key"
   ]
  },
  {
   "cell_type": "code",
   "execution_count": 106,
   "metadata": {},
   "outputs": [],
   "source": [
    "#connect to elephantsql server\n",
    "DB_NAME = \"vjigjaya\"\n",
    "DB_USER = \"vjigjaya\"\n",
    "DB_PASS = \"\"\n",
    "DB_HOST = \"lallah.db.elephantsql.com\"\n",
    "DB_PORT = \"5432\""
   ]
  },
  {
   "cell_type": "code",
   "execution_count": 107,
   "metadata": {},
   "outputs": [],
   "source": [
    "#connect locally\n",
    "# DB_NAME = \"Schedulator\"\n",
    "# DB_USER = \"postgres\"\n",
    "# DB_PASS = \"\"\n",
    "# DB_HOST = \"localhost\"\n",
    "# DB_PORT = \"5432\""
   ]
  },
  {
   "cell_type": "code",
   "execution_count": 108,
   "metadata": {},
   "outputs": [],
   "source": [
    "engine = create_engine(f\"postgresql://{DB_USER}:{DB_PASS}@{DB_HOST}/{DB_NAME}\")"
   ]
  },
  {
   "cell_type": "code",
   "execution_count": 109,
   "metadata": {},
   "outputs": [],
   "source": [
    "##another way to connect (if engine is not working)\n",
    "# try:\n",
    "#     con = psycopg2.connect(database=DB_NAME, user=DB_USER,\n",
    "#                           password=DB_PASS, host=DB_HOST, port=DB_PORT)\n",
    "#     print(\"Database connected successfully\")\n",
    "    \n",
    "# except:\n",
    "#     print(\"Database not connected successfully\")"
   ]
  },
  {
   "cell_type": "markdown",
   "metadata": {},
   "source": [
    "data from maslulim scraper"
   ]
  },
  {
   "cell_type": "code",
   "execution_count": 110,
   "metadata": {},
   "outputs": [],
   "source": [
    "faculties = {'הפקולטה למדעי הרוח': '01', 'הפקולטה למדעי הטבע': '02', 'הפקולטה למשפטים': '03', 'הפקולטה לרפואה': '04', 'הפקולטה לרפואת שיניים': '05', 'ביה\"ס למנהל העסקים': '06', 'הפקולטה למדעי החברה': '07', 'הפקולטה לחקלאות': '08', 'ביה\"ס לעבודה סוציאלית': '09', 'מרכז אדמונד ולילי ספרא למדעי המוח': '11', 'ביה\"ס להנדסה ולמדעי המחשב': '12', 'מכינה': '16', 'תכניות מיוחדות': '30'}\n",
    "hugim = maslulim_scraper.all_hugim"
   ]
  },
  {
   "cell_type": "code",
   "execution_count": 111,
   "metadata": {},
   "outputs": [],
   "source": [
    "#making the tables with pandas\n",
    "fac_df = pd.DataFrame(data=faculties.items(), columns=[\"fac_name\", \"fac_id\"])\n",
    "fac_df = fac_df[['fac_id' ,'fac_name']]\n",
    "\n",
    "hugim_df = pd.concat({k: pd.Series(v) for k, v in hugim.items()}).reset_index()\n",
    "hugim_df.columns = [\"fac_id\", \"hug_name\", \"hug_id\"]"
   ]
  },
  {
   "cell_type": "code",
   "execution_count": 113,
   "metadata": {},
   "outputs": [],
   "source": [
    "#write to the DB\n",
    "fac_df.to_sql(\"faculties\", engine)\n",
    "hugim_df.to_sql(\"hugim\", engine)\n"
   ]
  },
  {
   "cell_type": "markdown",
   "metadata": {},
   "source": [
    "Insert Faculty table"
   ]
  }
 ],
 "metadata": {
  "kernelspec": {
   "display_name": "Python 3",
   "language": "python",
   "name": "python3"
  },
  "language_info": {
   "codemirror_mode": {
    "name": "ipython",
    "version": 3
   },
   "file_extension": ".py",
   "mimetype": "text/x-python",
   "name": "python",
   "nbconvert_exporter": "python",
   "pygments_lexer": "ipython3",
   "version": "3.8.3"
  }
 },
 "nbformat": 4,
 "nbformat_minor": 4
}
