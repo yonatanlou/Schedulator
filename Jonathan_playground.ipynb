{
 "cells": [
  {
   "cell_type": "code",
   "execution_count": 131,
   "metadata": {},
   "outputs": [],
   "source": [
    "import re\n",
    "\n",
    "from time import sleep\n",
    "from selenium import webdriver\n",
    "from selenium.webdriver.support.ui import Select\n",
    "\n",
    "import numpy as np\n",
    "import pandas as pd\n",
    "#installation guide for selenium\n",
    "#https://medium.com/@shanyitan/how-to-install-selenium-and-run-it-successfully-via-jupyter-lab-c3f50d22a0d4"
   ]
  },
  {
   "cell_type": "code",
   "execution_count": 132,
   "metadata": {},
   "outputs": [],
   "source": [
    "#gathering information function\n",
    "def gather(browser):\n",
    "    lst=[]\n",
    "    try:\n",
    "        x=1\n",
    "        while True: \n",
    "            x_pather = \"//*[@id='myBody']/table/tbody/tr/td/table/tbody/tr[5]/td/form/table/tbody/tr[3]/td/a[\"+str(x)+\"]\"\n",
    "            main = browser.find_element_by_xpath(x_pather)\n",
    "            x+=1\n",
    "            lst.append(main)\n",
    "    except:\n",
    "        lst.pop()\n",
    "    return lst"
   ]
  },
  {
   "cell_type": "markdown",
   "metadata": {},
   "source": [
    "### Scraping the data with selenium\n",
    "*TODO we need to make it run by page\n",
    "\n",
    "*TODO testing with other maslulim"
   ]
  },
  {
   "cell_type": "code",
   "execution_count": 133,
   "metadata": {},
   "outputs": [
    {
     "name": "stdout",
     "output_type": "stream",
     "text": [
      "[<selenium.webdriver.remote.webelement.WebElement (session=\"090f038daff4266d2d7c2e51e96b3742\", element=\"9a127abf-cf88-4001-874a-9aeb3c7ca04a\")>, <selenium.webdriver.remote.webelement.WebElement (session=\"090f038daff4266d2d7c2e51e96b3742\", element=\"2873c416-5161-46f9-9caa-2a28c4d88fbf\")>, <selenium.webdriver.remote.webelement.WebElement (session=\"090f038daff4266d2d7c2e51e96b3742\", element=\"e3af044f-b802-482e-bcf5-a01338332cb2\")>, <selenium.webdriver.remote.webelement.WebElement (session=\"090f038daff4266d2d7c2e51e96b3742\", element=\"c7a57845-4d4e-4220-b857-fca65d5fa5ec\")>, <selenium.webdriver.remote.webelement.WebElement (session=\"090f038daff4266d2d7c2e51e96b3742\", element=\"86f8b476-045d-4e4d-9b4d-fc117567e6ed\")>, <selenium.webdriver.remote.webelement.WebElement (session=\"090f038daff4266d2d7c2e51e96b3742\", element=\"225070e5-48f7-436c-9734-27981dccfe78\")>, <selenium.webdriver.remote.webelement.WebElement (session=\"090f038daff4266d2d7c2e51e96b3742\", element=\"17a62a0f-1f03-43aa-b651-c25541db7710\")>, <selenium.webdriver.remote.webelement.WebElement (session=\"090f038daff4266d2d7c2e51e96b3742\", element=\"4b1c72db-55ab-4c75-851e-e90ea850d760\")>, <selenium.webdriver.remote.webelement.WebElement (session=\"090f038daff4266d2d7c2e51e96b3742\", element=\"3e809ef0-aeb7-4327-946a-2fb00ffab908\")>, <selenium.webdriver.remote.webelement.WebElement (session=\"090f038daff4266d2d7c2e51e96b3742\", element=\"af241ed8-d9aa-4ae6-a170-56a822f2c653\")>, <selenium.webdriver.remote.webelement.WebElement (session=\"090f038daff4266d2d7c2e51e96b3742\", element=\"b7b59ad6-b1e7-4c60-bd5c-587ebf5b6f40\")>, <selenium.webdriver.remote.webelement.WebElement (session=\"090f038daff4266d2d7c2e51e96b3742\", element=\"37044a45-2143-4799-be77-7903459baad8\")>, <selenium.webdriver.remote.webelement.WebElement (session=\"090f038daff4266d2d7c2e51e96b3742\", element=\"5551abb1-26cc-446f-95a0-afee82152503\")>, <selenium.webdriver.remote.webelement.WebElement (session=\"090f038daff4266d2d7c2e51e96b3742\", element=\"c3952514-dd94-497e-b596-bfdd43999a0a\")>, <selenium.webdriver.remote.webelement.WebElement (session=\"090f038daff4266d2d7c2e51e96b3742\", element=\"2ac1f48c-e651-48a0-bf88-d21abe0317e5\")>, <selenium.webdriver.remote.webelement.WebElement (session=\"090f038daff4266d2d7c2e51e96b3742\", element=\"26394898-89e5-46e3-92ae-8382ca4b4f89\")>, <selenium.webdriver.remote.webelement.WebElement (session=\"090f038daff4266d2d7c2e51e96b3742\", element=\"ac166dcb-b0f6-4d92-b128-0b7ce8992603\")>, <selenium.webdriver.remote.webelement.WebElement (session=\"090f038daff4266d2d7c2e51e96b3742\", element=\"1e773011-42f6-42d7-ac5d-ccdf64536abf\")>, <selenium.webdriver.remote.webelement.WebElement (session=\"090f038daff4266d2d7c2e51e96b3742\", element=\"5e6aa18e-8510-461d-99c4-d4810f88fc3a\")>, <selenium.webdriver.remote.webelement.WebElement (session=\"090f038daff4266d2d7c2e51e96b3742\", element=\"68d9db80-9ebb-4523-a761-e3e680f3208c\")>, <selenium.webdriver.remote.webelement.WebElement (session=\"090f038daff4266d2d7c2e51e96b3742\", element=\"2c33e642-dee9-43fc-a899-6d7b0bfcff8c\")>, <selenium.webdriver.remote.webelement.WebElement (session=\"090f038daff4266d2d7c2e51e96b3742\", element=\"61d4bf76-1c9d-41c5-9056-ed1e042ec5fe\")>, <selenium.webdriver.remote.webelement.WebElement (session=\"090f038daff4266d2d7c2e51e96b3742\", element=\"dc096a5b-6a51-4380-a774-ebec738dfe12\")>, <selenium.webdriver.remote.webelement.WebElement (session=\"090f038daff4266d2d7c2e51e96b3742\", element=\"758eea48-c60d-41c5-96ce-16bd9e8b4367\")>, <selenium.webdriver.remote.webelement.WebElement (session=\"090f038daff4266d2d7c2e51e96b3742\", element=\"9e34973e-26fc-4948-b04d-7074357f8649\")>, <selenium.webdriver.remote.webelement.WebElement (session=\"090f038daff4266d2d7c2e51e96b3742\", element=\"ae872678-d19f-4bf5-a36e-9895770a35a2\")>, <selenium.webdriver.remote.webelement.WebElement (session=\"090f038daff4266d2d7c2e51e96b3742\", element=\"9b7262a4-4b77-46e0-b512-4b1bf0ef3b58\")>, <selenium.webdriver.remote.webelement.WebElement (session=\"090f038daff4266d2d7c2e51e96b3742\", element=\"0f3251eb-3e00-4a05-8e51-10751df9f3cb\")>, <selenium.webdriver.remote.webelement.WebElement (session=\"090f038daff4266d2d7c2e51e96b3742\", element=\"073e6cee-6234-4a01-a4d5-024a4d8c7fda\")>, <selenium.webdriver.remote.webelement.WebElement (session=\"090f038daff4266d2d7c2e51e96b3742\", element=\"d6680bb5-0e64-41e6-ad9c-75469588543e\")>]\n"
     ]
    }
   ],
   "source": [
    "browser = webdriver.Chrome()\n",
    "browser.get(\"https://shnaton.huji.ac.il/\")\n",
    "\n",
    "\n",
    "\n",
    "select = Select(browser.find_element_by_id('faculty'))\n",
    "select.select_by_value('07') #Pass value as string\n",
    "sleep(1)\n",
    "\n",
    "select = Select(browser.find_element_by_id('hugim'))\n",
    "select.select_by_value('0824')\n",
    "sleep(1)\n",
    "\n",
    "select = Select(browser.find_element_by_id('maslul'))\n",
    "select.select_by_value('7411')\n",
    "sleep(1)\n",
    "\n",
    "select = Select(browser.find_element_by_id('toar'))\n",
    "select.select_by_value('1')\n",
    "sleep(1)\n",
    "\n",
    "select = Select(browser.find_element_by_id('shana'))\n",
    "select.select_by_value('0')\n",
    "sleep(1)\n",
    "\n",
    "browser.find_element_by_css_selector(\"input[type='radio'][id='full']\").click()\n",
    "sleep(0.2)\n",
    "\n",
    "browser.find_element_by_css_selector(\"input[type='button'][value=' חפש ']\").click()\n",
    "\n",
    "#collecting information\n",
    "up = browser.find_element_by_xpath('//*[@id=\"myBody\"]/table/tbody/tr/td/table/tbody/tr[5]/td/form/table/tbody/tr[3]/td/table[3]/tbody/tr/td[3]/a[2]')\n",
    "try:\n",
    "    while True:#information gathering function here\n",
    "        browser.execute_script(\"window.scrollTo(0,document.body.scrollHeight)\")\n",
    "        sleep(1)\n",
    "        lst=gather(browser)\n",
    "        up.click()\n",
    "except:\n",
    "    print(lst)\n",
    "    browser.close\n",
    "\n"
   ]
  },
  {
   "cell_type": "code",
   "execution_count": 134,
   "metadata": {},
   "outputs": [],
   "source": [
    "scraped_data = [i.text for i in lst]"
   ]
  },
  {
   "cell_type": "markdown",
   "metadata": {},
   "source": [
    "### Gathering the data from the scrpaed text\n",
    "gathering the data to dictionaries with regex.\n",
    "we might have some weak points here.\n",
    "#TODO test with other maslulim.\n",
    "\n",
    "#### infrastructure \n",
    "database = {id:[\"semester\": א\\ב\\שנתי, \"day\": א\\ב\\ג\\ד\\ה\\ו, \"hours\": \"hh:mm-hh:mm\",....,..]}\n",
    "\n",
    "from outside to inside:\n",
    "big dictionary keys are for course_id, the value is a list which every item in the list is a different hour of the class."
   ]
  },
  {
   "cell_type": "code",
   "execution_count": 137,
   "metadata": {},
   "outputs": [],
   "source": [
    "database = dict()\n",
    "canceled_courses = []\n",
    "for course in scraped_data:\n",
    "    course_details = []\n",
    "    info_by_day = dict()\n",
    "    \n",
    "    \n",
    "    hours = (re.findall(r\"([0-5][0-9]:[0-5][0-9]-[0-5][0-9]:[0-5][0-9])\", course))\n",
    "    course_id = (re.findall(r\"\\|\\s{3}(\\d{5})\", course))\n",
    "    day = (re.findall(r\"\\n(יום [אבגדהו])\", course))\n",
    "    semester = (re.findall(r\"\\n(שנתי|סמסטר [אבגדהו])\", course))\n",
    "    \n",
    "    #checking for canceled courses\n",
    "    if len(course_id) == 0 or len(hours) == 0:\n",
    "        if len(hours) == 0:\n",
    "            canceled_courses.append(course_id)\n",
    "        pass\n",
    "    else:\n",
    "        for item in range(len(hours)):\n",
    "            info_by_day[\"semester\"] = semester[item] \n",
    "            info_by_day[\"day\"] = day[item]\n",
    "            info_by_day[\"hours\"] = hours[item]\n",
    "            course_details.append(info_by_day)\n",
    "        \n",
    "        database[course_id[0]] = course_details\n",
    "\n",
    "canceled_courses = [x for x in canceled_courses if x != []]"
   ]
  },
  {
   "cell_type": "code",
   "execution_count": 1,
   "metadata": {},
   "outputs": [],
   "source": [
    "# #helper for regex\n",
    "# counter = 0\n",
    "# for i in scraped_data:\n",
    "#     print(counter)\n",
    "#     print(i,\"\\n\"+\"\\n\"+\"*******end of object********\"+\"\\n\"+\"\\n\")\n",
    "#     counter += 1"
   ]
  },
  {
   "cell_type": "code",
   "execution_count": 12,
   "metadata": {},
   "outputs": [
    {
     "name": "stdout",
     "output_type": "stream",
     "text": [
      "3\n",
      "3\n",
      "4\n",
      "parrot\n"
     ]
    }
   ],
   "source": [
    "birds = ['owl', 'hen', 'duck', 'parrot']\n",
    "for bird in birds:\n",
    "    if (len_bird := len(bird)) > 4:\n",
    "        print(bird)\n",
    "    else:\n",
    "        print(len_bird)\n",
    "# A bird “parrot” consists of “6”, letters"
   ]
  },
  {
   "cell_type": "code",
   "execution_count": 9,
   "metadata": {},
   "outputs": [
    {
     "data": {
      "text/plain": [
       "\"print(f'A bird '{bird}' consists of '{len_bird}', letters')\""
      ]
     },
     "execution_count": 9,
     "metadata": {},
     "output_type": "execute_result"
    }
   ],
   "source": [
    "string = \"print(f'A bird “{bird}” consists of “{len_bird}”, letters')\"\n",
    "string = string.replace(\"“\", \"'\")\n",
    "string = string.replace(\"”\", \"'\")\n",
    "string"
   ]
  },
  {
   "cell_type": "code",
   "execution_count": null,
   "metadata": {},
   "outputs": [],
   "source": []
  }
 ],
 "metadata": {
  "kernelspec": {
   "display_name": "Python 3",
   "language": "python",
   "name": "python3"
  },
  "language_info": {
   "codemirror_mode": {
    "name": "ipython",
    "version": 3
   },
   "file_extension": ".py",
   "mimetype": "text/x-python",
   "name": "python",
   "nbconvert_exporter": "python",
   "pygments_lexer": "ipython3",
   "version": "3.8.3"
  }
 },
 "nbformat": 4,
 "nbformat_minor": 4
}
