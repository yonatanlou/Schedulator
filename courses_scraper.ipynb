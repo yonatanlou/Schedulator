{
 "cells": [
  {
   "cell_type": "code",
   "execution_count": 139,
   "metadata": {},
   "outputs": [],
   "source": [
    "import re\n",
    "\n",
    "from time import sleep\n",
    "from selenium import webdriver\n",
    "from selenium.webdriver.support.ui import Select\n",
    "\n",
    "import numpy as np\n",
    "import pandas as pd\n",
    "#installation guide for selenium\n",
    "#https://medium.com/@shanyitan/how-to-install-selenium-and-run-it-successfully-via-jupyter-lab-c3f50d22a0d4"
   ]
  },
  {
   "cell_type": "code",
   "execution_count": 140,
   "metadata": {},
   "outputs": [],
   "source": [
    "#gathering information function\n",
    "def gather(browser):\n",
    "    lst=[]\n",
    "    try:\n",
    "        x=1\n",
    "        while True: \n",
    "            x_pather = \"//*[@id='myBody']/table/tbody/tr/td/table/tbody/tr[5]/td/form/table/tbody/tr[3]/td/a[\"+str(x)+\"]\"\n",
    "            main = browser.find_element_by_xpath(x_pather)\n",
    "            x+=1\n",
    "            lst.append(main)\n",
    "    except:\n",
    "        lst.pop()\n",
    "    return lst"
   ]
  },
  {
   "cell_type": "markdown",
   "metadata": {},
   "source": [
    "### Scraping the data with selenium\n",
    "*TODO we need to make it run by page\n",
    "\n",
    "*TODO testing with other maslulim (Economics and statistics is good but computers not)"
   ]
  },
  {
   "cell_type": "code",
   "execution_count": 159,
   "metadata": {},
   "outputs": [
    {
     "name": "stdout",
     "output_type": "stream",
     "text": [
      "[<selenium.webdriver.remote.webelement.WebElement (session=\"ee4dc247c34f9e75ab788bafee9cca22\", element=\"facf829e-327d-4dbe-8c12-a4b8fadde97c\")>, <selenium.webdriver.remote.webelement.WebElement (session=\"ee4dc247c34f9e75ab788bafee9cca22\", element=\"f9dbad94-6115-4b71-9262-606661a2d8dd\")>, <selenium.webdriver.remote.webelement.WebElement (session=\"ee4dc247c34f9e75ab788bafee9cca22\", element=\"11407ee6-b4cd-4bbc-a523-268f740651b5\")>, <selenium.webdriver.remote.webelement.WebElement (session=\"ee4dc247c34f9e75ab788bafee9cca22\", element=\"b6354f64-3e18-4834-95d5-8dd9515b4e09\")>, <selenium.webdriver.remote.webelement.WebElement (session=\"ee4dc247c34f9e75ab788bafee9cca22\", element=\"1f3edd12-2ed9-45ae-86b2-c0e206f734cb\")>, <selenium.webdriver.remote.webelement.WebElement (session=\"ee4dc247c34f9e75ab788bafee9cca22\", element=\"ee51aed3-623a-4ef7-8ef0-48ba2d73ffba\")>, <selenium.webdriver.remote.webelement.WebElement (session=\"ee4dc247c34f9e75ab788bafee9cca22\", element=\"4038ad33-741a-4676-b16c-630add699baa\")>, <selenium.webdriver.remote.webelement.WebElement (session=\"ee4dc247c34f9e75ab788bafee9cca22\", element=\"df12c674-9ca2-4072-9bc6-4fb53024103d\")>, <selenium.webdriver.remote.webelement.WebElement (session=\"ee4dc247c34f9e75ab788bafee9cca22\", element=\"af0647d4-a1d9-4c9c-bfb8-0e11f36f2548\")>, <selenium.webdriver.remote.webelement.WebElement (session=\"ee4dc247c34f9e75ab788bafee9cca22\", element=\"96f72c40-cf6f-4d77-bfb8-6eb331a3327e\")>, <selenium.webdriver.remote.webelement.WebElement (session=\"ee4dc247c34f9e75ab788bafee9cca22\", element=\"df9b81ca-acc8-4cf7-8e93-1240d1d3120d\")>, <selenium.webdriver.remote.webelement.WebElement (session=\"ee4dc247c34f9e75ab788bafee9cca22\", element=\"72626d6f-c8c1-448f-9e34-072986dbe993\")>, <selenium.webdriver.remote.webelement.WebElement (session=\"ee4dc247c34f9e75ab788bafee9cca22\", element=\"26c3063e-92b7-4b05-b197-55685a1e2751\")>, <selenium.webdriver.remote.webelement.WebElement (session=\"ee4dc247c34f9e75ab788bafee9cca22\", element=\"8e648a01-2150-4d0f-afae-98edaf5df242\")>, <selenium.webdriver.remote.webelement.WebElement (session=\"ee4dc247c34f9e75ab788bafee9cca22\", element=\"0640dcc5-0c26-4b1b-9b78-32a2abbfc6bf\")>, <selenium.webdriver.remote.webelement.WebElement (session=\"ee4dc247c34f9e75ab788bafee9cca22\", element=\"f9098ccb-5f0a-4171-ac30-2e53bc67b476\")>, <selenium.webdriver.remote.webelement.WebElement (session=\"ee4dc247c34f9e75ab788bafee9cca22\", element=\"f07d752f-9505-4718-9aaf-828f113c997e\")>, <selenium.webdriver.remote.webelement.WebElement (session=\"ee4dc247c34f9e75ab788bafee9cca22\", element=\"50a653e0-0f2f-4cda-862c-b16528731512\")>, <selenium.webdriver.remote.webelement.WebElement (session=\"ee4dc247c34f9e75ab788bafee9cca22\", element=\"56005171-2a78-454d-8cfc-c5f971902736\")>, <selenium.webdriver.remote.webelement.WebElement (session=\"ee4dc247c34f9e75ab788bafee9cca22\", element=\"567ca684-2001-4d09-a19d-97410432cd34\")>, <selenium.webdriver.remote.webelement.WebElement (session=\"ee4dc247c34f9e75ab788bafee9cca22\", element=\"82d833df-8347-4f6c-8b70-e230fd30a2ab\")>, <selenium.webdriver.remote.webelement.WebElement (session=\"ee4dc247c34f9e75ab788bafee9cca22\", element=\"fcbe72d5-91fa-44b8-aae2-cb42edbbbf56\")>, <selenium.webdriver.remote.webelement.WebElement (session=\"ee4dc247c34f9e75ab788bafee9cca22\", element=\"0efcdef2-a660-4a7f-805a-c9997a23f471\")>, <selenium.webdriver.remote.webelement.WebElement (session=\"ee4dc247c34f9e75ab788bafee9cca22\", element=\"f09a43cd-3bfe-424b-8a4e-9b7238ccac47\")>, <selenium.webdriver.remote.webelement.WebElement (session=\"ee4dc247c34f9e75ab788bafee9cca22\", element=\"11fc7a6b-e89d-4a44-9574-e5f6393bbec3\")>, <selenium.webdriver.remote.webelement.WebElement (session=\"ee4dc247c34f9e75ab788bafee9cca22\", element=\"11fe7cdc-ddaa-49cc-be37-ec7d47e36f81\")>, <selenium.webdriver.remote.webelement.WebElement (session=\"ee4dc247c34f9e75ab788bafee9cca22\", element=\"6ce29249-1136-42a1-af00-e35c006d0bb4\")>, <selenium.webdriver.remote.webelement.WebElement (session=\"ee4dc247c34f9e75ab788bafee9cca22\", element=\"f318e9dc-2302-4ef5-aaaf-b1d200873668\")>, <selenium.webdriver.remote.webelement.WebElement (session=\"ee4dc247c34f9e75ab788bafee9cca22\", element=\"74215264-5896-4d8e-a85e-ef09659dd487\")>, <selenium.webdriver.remote.webelement.WebElement (session=\"ee4dc247c34f9e75ab788bafee9cca22\", element=\"ea45977a-abd6-435b-9ade-65dba098cb32\")>]\n"
     ]
    }
   ],
   "source": [
    "browser = webdriver.Chrome()\n",
    "browser.get(\"https://shnaton.huji.ac.il/\")\n",
    "\n",
    "\n",
    "\n",
    "select = Select(browser.find_element_by_id('faculty'))\n",
    "select.select_by_value('07') #Pass value as string\n",
    "sleep(1)\n",
    "\n",
    "select = Select(browser.find_element_by_id('hugim'))\n",
    "select.select_by_value('0824')\n",
    "sleep(1)\n",
    "\n",
    "select = Select(browser.find_element_by_id('maslul'))\n",
    "select.select_by_value('7411')\n",
    "sleep(1)\n",
    "\n",
    "select = Select(browser.find_element_by_id('toar'))\n",
    "select.select_by_value('1')\n",
    "sleep(1)\n",
    "\n",
    "select = Select(browser.find_element_by_id('shana'))\n",
    "select.select_by_value('0')\n",
    "sleep(1)\n",
    "\n",
    "browser.find_element_by_css_selector(\"input[type='radio'][id='full']\").click()\n",
    "sleep(0.2)\n",
    "\n",
    "browser.find_element_by_css_selector(\"input[type='button'][value=' חפש ']\").click()\n",
    "\n",
    "#collecting information\n",
    "#TODO - make it work for more than 2 pages\n",
    "up = browser.find_element_by_xpath('//*[@id=\"myBody\"]/table/tbody/tr/td/table/tbody/tr[5]/td/form/table/tbody/tr[3]/td/table[3]/tbody/tr/td[3]/a[2]')\n",
    "try:\n",
    "    while True:#information gathering function here\n",
    "        browser.execute_script(\"window.scrollTo(0,document.body.scrollHeight)\")\n",
    "        sleep(2.5)\n",
    "        lst=gather(browser)\n",
    "        up.click()\n",
    "except:\n",
    "    print(lst)\n",
    "    browser.close\n",
    "\n"
   ]
  },
  {
   "cell_type": "code",
   "execution_count": 160,
   "metadata": {},
   "outputs": [],
   "source": [
    "scraped_data = [i.text for i in lst]"
   ]
  },
  {
   "cell_type": "markdown",
   "metadata": {},
   "source": [
    "### Gathering the data from the scrpaed text\n",
    "gathering the data to dictionaries with regex.\n",
    "we might have some weak points here.\n",
    "#TODO test with other maslulim.\n",
    "\n",
    "#### infrastructure \n",
    "database = {id:[\"semester\": א\\ב\\שנתי, \"day\": א\\ב\\ג\\ד\\ה\\ו, \"hours\": \"hh:mm-hh:mm\",....,..]}\n",
    "\n",
    "from outside to inside:\n",
    "big dictionary keys are for course_id, the value is a list which every item in the list is a different hour of the class."
   ]
  },
  {
   "cell_type": "code",
   "execution_count": 161,
   "metadata": {},
   "outputs": [
    {
     "data": {
      "text/plain": [
       "({'57676': [{'semester': 'סמסטר ב', 'day': 'יום ד', 'hours': '10:15-08:30'},\n",
       "   {'semester': 'סמסטר ב', 'day': 'יום ד', 'hours': '10:15-08:30'}],\n",
       "  '57257': [{'semester': 'סמסטר ב', 'day': 'יום ב', 'hours': '12:15-08:30'}],\n",
       "  '57255': [{'semester': 'סמסטר א', 'day': 'יום ה', 'hours': '10:15-08:30'},\n",
       "   {'semester': 'סמסטר א', 'day': 'יום ה', 'hours': '10:15-08:30'}],\n",
       "  '57643': [{'semester': 'שנתי', 'day': 'יום ה', 'hours': '14:15-12:30'}],\n",
       "  '57639': [{'semester': 'סמסטר ב', 'day': 'יום ד', 'hours': '18:15-16:30'},\n",
       "   {'semester': 'סמסטר ב', 'day': 'יום ד', 'hours': '18:15-16:30'}],\n",
       "  '57736': [{'semester': 'שנתי', 'day': 'יום ה', 'hours': '10:15-08:30'}],\n",
       "  '57152': [{'semester': 'סמסטר א', 'day': 'יום ד', 'hours': '16:15-14:30'},\n",
       "   {'semester': 'סמסטר א', 'day': 'יום ד', 'hours': '16:15-14:30'}],\n",
       "  '57811': [{'semester': 'סמסטר א', 'day': 'יום ה', 'hours': '16:15-14:30'},\n",
       "   {'semester': 'סמסטר א', 'day': 'יום ה', 'hours': '16:15-14:30'}],\n",
       "  '57200': [{'semester': 'שנתי', 'day': 'יום א', 'hours': '18:15-16:30'}],\n",
       "  '57128': [{'semester': 'סמסטר א', 'day': 'יום ד', 'hours': '18:15-16:30'},\n",
       "   {'semester': 'סמסטר א', 'day': 'יום ד', 'hours': '18:15-16:30'}],\n",
       "  '57469': [{'semester': 'שנתי', 'day': 'יום א', 'hours': '14:15-12:30'}],\n",
       "  '57900': [{'semester': 'סמסטר ב', 'day': 'יום ב', 'hours': '10:15-08:30'},\n",
       "   {'semester': 'סמסטר ב', 'day': 'יום ב', 'hours': '10:15-08:30'}],\n",
       "  '57401': [{'semester': 'שנתי', 'day': 'יום ג', 'hours': '16:15-14:30'}],\n",
       "  '52542': [{'semester': 'סמסטר א', 'day': 'יום ד', 'hours': '14:15-11:30'}],\n",
       "  '52755': [{'semester': 'סמסטר א', 'day': 'יום ב', 'hours': '19:45-17:00'}],\n",
       "  '52700': [{'semester': 'סמסטר ב', 'day': 'יום ד', 'hours': '16:15-13:30'}],\n",
       "  '52710': [{'semester': 'סמסטר ב', 'day': 'יום ג', 'hours': '11:15-08:30'}],\n",
       "  '52747': [{'semester': 'סמסטר ב', 'day': 'יום א', 'hours': '19:15-16:30'}],\n",
       "  '52640': [{'semester': 'סמסטר א', 'day': 'יום ג', 'hours': '16:15-13:30'}],\n",
       "  '57556': [{'semester': 'סמסטר ב', 'day': 'יום ג', 'hours': '13:15-10:30'}],\n",
       "  '57830': [{'semester': 'סמסטר ב', 'day': 'יום ד', 'hours': '18:15-16:30'},\n",
       "   {'semester': 'סמסטר ב', 'day': 'יום ד', 'hours': '18:15-16:30'}],\n",
       "  '57973': [{'semester': 'סמסטר א', 'day': 'יום א', 'hours': '19:15-16:30'}],\n",
       "  '55803': [{'semester': 'סמסטר ב', 'day': 'יום ג', 'hours': '20:15-19:30'},\n",
       "   {'semester': 'סמסטר ב', 'day': 'יום ג', 'hours': '20:15-19:30'},\n",
       "   {'semester': 'סמסטר ב', 'day': 'יום ג', 'hours': '20:15-19:30'},\n",
       "   {'semester': 'סמסטר ב', 'day': 'יום ג', 'hours': '20:15-19:30'},\n",
       "   {'semester': 'סמסטר ב', 'day': 'יום ג', 'hours': '20:15-19:30'},\n",
       "   {'semester': 'סמסטר ב', 'day': 'יום ג', 'hours': '20:15-19:30'},\n",
       "   {'semester': 'סמסטר ב', 'day': 'יום ג', 'hours': '20:15-19:30'},\n",
       "   {'semester': 'סמסטר ב', 'day': 'יום ג', 'hours': '20:15-19:30'}]},\n",
       " [['57256'], ['57670'], ['57642'], ['57132']])"
      ]
     },
     "execution_count": 161,
     "metadata": {},
     "output_type": "execute_result"
    }
   ],
   "source": [
    "def data_gatherer(scraped_data):\n",
    "    \"\"\" Return (dictionary that contains all the courses per page, canceled courses)\"\"\"\n",
    "    database = dict()\n",
    "    canceled_courses = []\n",
    "    for course in scraped_data:\n",
    "        course_details = []\n",
    "        info_by_day = dict()\n",
    "\n",
    "\n",
    "        hours = (re.findall(r\"([0-5][0-9]:[0-5][0-9]-[0-5][0-9]:[0-5][0-9])\", course))\n",
    "        course_id = (re.findall(r\"\\|\\s{3}(\\d{5})\", course))\n",
    "        day = (re.findall(r\"\\n(יום [אבגדהו])\", course))\n",
    "        semester = (re.findall(r\"\\n(שנתי|סמסטר [אבגדהו])\", course))\n",
    "\n",
    "        #checking for canceled courses\n",
    "        if len(course_id) == 0 or len(hours) == 0:\n",
    "            if len(hours) == 0:\n",
    "                canceled_courses.append(course_id)\n",
    "            pass\n",
    "\n",
    "        else:\n",
    "            for item in range(len(hours)):\n",
    "                info_by_day[\"semester\"] = semester[item] \n",
    "                info_by_day[\"day\"] = day[item]\n",
    "                info_by_day[\"hours\"] = hours[item]\n",
    "                course_details.append(info_by_day)\n",
    "\n",
    "            database[course_id[0]] = course_details\n",
    "\n",
    "    canceled_courses = [x for x in canceled_courses if x != []]\n",
    "    return database, canceled_courses\n",
    "data_gatherer(scraped_data)"
   ]
  },
  {
   "cell_type": "code",
   "execution_count": 144,
   "metadata": {},
   "outputs": [],
   "source": [
    "#helper for regex\n",
    "# counter = 0\n",
    "# for i in scraped_data:\n",
    "#     print(counter)\n",
    "#     print(i,\"\\n\"+\"\\n\"+\"*******end of object********\"+\"\\n\"+\"\\n\")\n",
    "#     counter += 1"
   ]
  },
  {
   "cell_type": "code",
   "execution_count": null,
   "metadata": {},
   "outputs": [],
   "source": []
  }
 ],
 "metadata": {
  "kernelspec": {
   "display_name": "Python 3",
   "language": "python",
   "name": "python3"
  },
  "language_info": {
   "codemirror_mode": {
    "name": "ipython",
    "version": 3
   },
   "file_extension": ".py",
   "mimetype": "text/x-python",
   "name": "python",
   "nbconvert_exporter": "python",
   "pygments_lexer": "ipython3",
   "version": "3.8.3"
  }
 },
 "nbformat": 4,
 "nbformat_minor": 4
}
