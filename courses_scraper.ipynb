{
 "cells": [
  {
   "cell_type": "code",
   "execution_count": 139,
   "metadata": {},
   "outputs": [],
   "source": [
    "import re\n",
    "\n",
    "from time import sleep\n",
    "from selenium import webdriver\n",
    "from selenium.webdriver.support.ui import Select\n",
    "\n",
    "import numpy as np\n",
    "import pandas as pd\n",
    "#installation guide for selenium\n",
    "#https://medium.com/@shanyitan/how-to-install-selenium-and-run-it-successfully-via-jupyter-lab-c3f50d22a0d4"
   ]
  },
  {
   "cell_type": "code",
   "execution_count": 140,
   "metadata": {},
   "outputs": [],
   "source": [
    "#gathering information function\n",
    "def gather(browser):\n",
    "    lst=[]\n",
    "    try:\n",
    "        x=1\n",
    "        while True: \n",
    "            x_pather = \"//*[@id='myBody']/table/tbody/tr/td/table/tbody/tr[5]/td/form/table/tbody/tr[3]/td/a[\"+str(x)+\"]\"\n",
    "            main = browser.find_element_by_xpath(x_pather)\n",
    "            x+=1\n",
    "            lst.append(main)\n",
    "    except:\n",
    "        lst.pop()\n",
    "    return lst"
   ]
  },
  {
   "cell_type": "markdown",
   "metadata": {},
   "source": [
    "### Scraping the data with selenium\n",
    "*TODO we need to make it run by page\n",
    "\n",
    "*TODO testing with other maslulim"
   ]
  },
  {
   "cell_type": "code",
   "execution_count": 141,
   "metadata": {},
   "outputs": [
    {
     "name": "stdout",
     "output_type": "stream",
     "text": [
      "[<selenium.webdriver.remote.webelement.WebElement (session=\"cde6d9fd18bd0f39f84eae3991cb1e27\", element=\"353b72cb-2dd1-4136-be14-283c5338a543\")>, <selenium.webdriver.remote.webelement.WebElement (session=\"cde6d9fd18bd0f39f84eae3991cb1e27\", element=\"26986103-0b7a-4cd6-a654-a746103434ae\")>, <selenium.webdriver.remote.webelement.WebElement (session=\"cde6d9fd18bd0f39f84eae3991cb1e27\", element=\"26541e05-2cb8-4ee4-b4f4-38d16191e01b\")>, <selenium.webdriver.remote.webelement.WebElement (session=\"cde6d9fd18bd0f39f84eae3991cb1e27\", element=\"7df1d98f-91ed-47d9-8d4e-4beb6681c160\")>, <selenium.webdriver.remote.webelement.WebElement (session=\"cde6d9fd18bd0f39f84eae3991cb1e27\", element=\"586cc9d5-1a89-4f8f-905c-4cb09c67fce4\")>, <selenium.webdriver.remote.webelement.WebElement (session=\"cde6d9fd18bd0f39f84eae3991cb1e27\", element=\"4bc68c5a-6fd2-44c7-9b55-eaefaa260356\")>, <selenium.webdriver.remote.webelement.WebElement (session=\"cde6d9fd18bd0f39f84eae3991cb1e27\", element=\"b9d43e3a-5d9d-4997-8cc2-82d4aacac2a9\")>, <selenium.webdriver.remote.webelement.WebElement (session=\"cde6d9fd18bd0f39f84eae3991cb1e27\", element=\"7bfd64bf-e722-48bc-bcb8-1e958437bf0c\")>, <selenium.webdriver.remote.webelement.WebElement (session=\"cde6d9fd18bd0f39f84eae3991cb1e27\", element=\"93288e65-2910-4c2e-b2ee-da0bfe09d72e\")>, <selenium.webdriver.remote.webelement.WebElement (session=\"cde6d9fd18bd0f39f84eae3991cb1e27\", element=\"8d1cbd22-e363-4ad0-978b-9d55734bfd9f\")>, <selenium.webdriver.remote.webelement.WebElement (session=\"cde6d9fd18bd0f39f84eae3991cb1e27\", element=\"e795423f-4517-44ad-8f66-b78f95cf6f6a\")>, <selenium.webdriver.remote.webelement.WebElement (session=\"cde6d9fd18bd0f39f84eae3991cb1e27\", element=\"54ad4eb4-31ac-434d-9a99-803c8fdd16f6\")>, <selenium.webdriver.remote.webelement.WebElement (session=\"cde6d9fd18bd0f39f84eae3991cb1e27\", element=\"7b7c70a3-6f3c-4912-a552-837306e013e3\")>, <selenium.webdriver.remote.webelement.WebElement (session=\"cde6d9fd18bd0f39f84eae3991cb1e27\", element=\"3eb89789-bf80-42b3-9dfa-55e73cd5e5f8\")>, <selenium.webdriver.remote.webelement.WebElement (session=\"cde6d9fd18bd0f39f84eae3991cb1e27\", element=\"77301abd-0d15-4884-a102-a47dd2beb1fa\")>, <selenium.webdriver.remote.webelement.WebElement (session=\"cde6d9fd18bd0f39f84eae3991cb1e27\", element=\"64a63e67-7845-4c48-a676-fbe9854419bc\")>, <selenium.webdriver.remote.webelement.WebElement (session=\"cde6d9fd18bd0f39f84eae3991cb1e27\", element=\"a695676e-8661-45fd-8326-1ceccdb8a0de\")>, <selenium.webdriver.remote.webelement.WebElement (session=\"cde6d9fd18bd0f39f84eae3991cb1e27\", element=\"0cfaf748-468c-49e4-a4de-8094c4c3d77e\")>, <selenium.webdriver.remote.webelement.WebElement (session=\"cde6d9fd18bd0f39f84eae3991cb1e27\", element=\"1ca38842-8788-4b66-b50a-9ab2df2ac5c1\")>, <selenium.webdriver.remote.webelement.WebElement (session=\"cde6d9fd18bd0f39f84eae3991cb1e27\", element=\"9706f86b-4a3a-4800-8483-ed9ba92cbd5a\")>, <selenium.webdriver.remote.webelement.WebElement (session=\"cde6d9fd18bd0f39f84eae3991cb1e27\", element=\"b99bac34-228f-432f-9fb6-5a8587b2f0f9\")>, <selenium.webdriver.remote.webelement.WebElement (session=\"cde6d9fd18bd0f39f84eae3991cb1e27\", element=\"4c40534b-fb64-49ad-a6b3-7feb5ac33e79\")>, <selenium.webdriver.remote.webelement.WebElement (session=\"cde6d9fd18bd0f39f84eae3991cb1e27\", element=\"fd20ee5d-715b-41d9-a3f7-c1c8f864ff79\")>, <selenium.webdriver.remote.webelement.WebElement (session=\"cde6d9fd18bd0f39f84eae3991cb1e27\", element=\"39b699b7-76b8-4cfa-bfe6-56f4267b3f9f\")>, <selenium.webdriver.remote.webelement.WebElement (session=\"cde6d9fd18bd0f39f84eae3991cb1e27\", element=\"3451b39c-9652-49ca-9dd8-ebd0b489cd49\")>, <selenium.webdriver.remote.webelement.WebElement (session=\"cde6d9fd18bd0f39f84eae3991cb1e27\", element=\"32b1e5f9-5e04-440a-8ea1-2f724a21cda0\")>, <selenium.webdriver.remote.webelement.WebElement (session=\"cde6d9fd18bd0f39f84eae3991cb1e27\", element=\"fdc236c4-bafd-4f63-92a7-19150b968db4\")>, <selenium.webdriver.remote.webelement.WebElement (session=\"cde6d9fd18bd0f39f84eae3991cb1e27\", element=\"8c0db8f0-9bc9-4399-910d-e3e6c4ff2ff1\")>, <selenium.webdriver.remote.webelement.WebElement (session=\"cde6d9fd18bd0f39f84eae3991cb1e27\", element=\"c2db631e-2aee-4157-bdae-db948eba8b96\")>, <selenium.webdriver.remote.webelement.WebElement (session=\"cde6d9fd18bd0f39f84eae3991cb1e27\", element=\"47b21894-a205-4833-a513-083d4392b6c0\")>]\n"
     ]
    }
   ],
   "source": [
    "browser = webdriver.Chrome()\n",
    "browser.get(\"https://shnaton.huji.ac.il/\")\n",
    "\n",
    "\n",
    "\n",
    "select = Select(browser.find_element_by_id('faculty'))\n",
    "select.select_by_value('07') #Pass value as string\n",
    "sleep(1)\n",
    "\n",
    "select = Select(browser.find_element_by_id('hugim'))\n",
    "select.select_by_value('0824')\n",
    "sleep(1)\n",
    "\n",
    "select = Select(browser.find_element_by_id('maslul'))\n",
    "select.select_by_value('7411')\n",
    "sleep(1)\n",
    "\n",
    "select = Select(browser.find_element_by_id('toar'))\n",
    "select.select_by_value('1')\n",
    "sleep(1)\n",
    "\n",
    "select = Select(browser.find_element_by_id('shana'))\n",
    "select.select_by_value('0')\n",
    "sleep(1)\n",
    "\n",
    "browser.find_element_by_css_selector(\"input[type='radio'][id='full']\").click()\n",
    "sleep(0.2)\n",
    "\n",
    "browser.find_element_by_css_selector(\"input[type='button'][value=' חפש ']\").click()\n",
    "\n",
    "#collecting information\n",
    "up = browser.find_element_by_xpath('//*[@id=\"myBody\"]/table/tbody/tr/td/table/tbody/tr[5]/td/form/table/tbody/tr[3]/td/table[3]/tbody/tr/td[3]/a[2]')\n",
    "try:\n",
    "    while True:#information gathering function here\n",
    "        browser.execute_script(\"window.scrollTo(0,document.body.scrollHeight)\")\n",
    "        sleep(1)\n",
    "        lst=gather(browser)\n",
    "        up.click()\n",
    "except:\n",
    "    print(lst)\n",
    "    browser.close\n",
    "\n"
   ]
  },
  {
   "cell_type": "code",
   "execution_count": 142,
   "metadata": {},
   "outputs": [],
   "source": [
    "scraped_data = [i.text for i in lst]"
   ]
  },
  {
   "cell_type": "markdown",
   "metadata": {},
   "source": [
    "### Gathering the data from the scrpaed text\n",
    "gathering the data to dictionaries with regex.\n",
    "we might have some weak points here.\n",
    "#TODO test with other maslulim.\n",
    "\n",
    "#### infrastructure \n",
    "database = {id:[\"semester\": א\\ב\\שנתי, \"day\": א\\ב\\ג\\ד\\ה\\ו, \"hours\": \"hh:mm-hh:mm\",....,..]}\n",
    "\n",
    "from outside to inside:\n",
    "big dictionary keys are for course_id, the value is a list which every item in the list is a different hour of the class."
   ]
  },
  {
   "cell_type": "code",
   "execution_count": 143,
   "metadata": {},
   "outputs": [
    {
     "data": {
      "text/plain": [
       "({'57676': [{'semester': 'סמסטר ב', 'day': 'יום ד', 'hours': '10:15-08:30'},\n",
       "   {'semester': 'סמסטר ב', 'day': 'יום ד', 'hours': '10:15-08:30'}],\n",
       "  '57257': [{'semester': 'סמסטר ב', 'day': 'יום ב', 'hours': '12:15-08:30'}],\n",
       "  '57255': [{'semester': 'סמסטר א', 'day': 'יום ה', 'hours': '10:15-08:30'},\n",
       "   {'semester': 'סמסטר א', 'day': 'יום ה', 'hours': '10:15-08:30'}],\n",
       "  '57643': [{'semester': 'שנתי', 'day': 'יום ה', 'hours': '14:15-12:30'}],\n",
       "  '57639': [{'semester': 'סמסטר ב', 'day': 'יום ד', 'hours': '18:15-16:30'},\n",
       "   {'semester': 'סמסטר ב', 'day': 'יום ד', 'hours': '18:15-16:30'}],\n",
       "  '57736': [{'semester': 'שנתי', 'day': 'יום ה', 'hours': '10:15-08:30'}],\n",
       "  '57152': [{'semester': 'סמסטר א', 'day': 'יום ד', 'hours': '16:15-14:30'},\n",
       "   {'semester': 'סמסטר א', 'day': 'יום ד', 'hours': '16:15-14:30'}],\n",
       "  '57811': [{'semester': 'סמסטר א', 'day': 'יום ה', 'hours': '16:15-14:30'},\n",
       "   {'semester': 'סמסטר א', 'day': 'יום ה', 'hours': '16:15-14:30'}],\n",
       "  '57200': [{'semester': 'שנתי', 'day': 'יום א', 'hours': '18:15-16:30'}],\n",
       "  '57128': [{'semester': 'סמסטר א', 'day': 'יום ד', 'hours': '18:15-16:30'},\n",
       "   {'semester': 'סמסטר א', 'day': 'יום ד', 'hours': '18:15-16:30'}],\n",
       "  '57469': [{'semester': 'שנתי', 'day': 'יום א', 'hours': '14:15-12:30'}],\n",
       "  '57900': [{'semester': 'סמסטר ב', 'day': 'יום ב', 'hours': '10:15-08:30'},\n",
       "   {'semester': 'סמסטר ב', 'day': 'יום ב', 'hours': '10:15-08:30'}],\n",
       "  '57401': [{'semester': 'שנתי', 'day': 'יום ג', 'hours': '16:15-14:30'}],\n",
       "  '52542': [{'semester': 'סמסטר א', 'day': 'יום ד', 'hours': '14:15-11:30'}],\n",
       "  '52755': [{'semester': 'סמסטר א', 'day': 'יום ב', 'hours': '19:45-17:00'}],\n",
       "  '52700': [{'semester': 'סמסטר ב', 'day': 'יום ד', 'hours': '16:15-13:30'}],\n",
       "  '52710': [{'semester': 'סמסטר ב', 'day': 'יום ג', 'hours': '11:15-08:30'}],\n",
       "  '52747': [{'semester': 'סמסטר ב', 'day': 'יום א', 'hours': '19:15-16:30'}],\n",
       "  '52640': [{'semester': 'סמסטר א', 'day': 'יום ג', 'hours': '16:15-13:30'}],\n",
       "  '57556': [{'semester': 'סמסטר ב', 'day': 'יום ג', 'hours': '13:15-10:30'}],\n",
       "  '57830': [{'semester': 'סמסטר ב', 'day': 'יום ד', 'hours': '18:15-16:30'},\n",
       "   {'semester': 'סמסטר ב', 'day': 'יום ד', 'hours': '18:15-16:30'}],\n",
       "  '57973': [{'semester': 'סמסטר א', 'day': 'יום א', 'hours': '19:15-16:30'}],\n",
       "  '55803': [{'semester': 'סמסטר ב', 'day': 'יום ג', 'hours': '20:15-19:30'},\n",
       "   {'semester': 'סמסטר ב', 'day': 'יום ג', 'hours': '20:15-19:30'},\n",
       "   {'semester': 'סמסטר ב', 'day': 'יום ג', 'hours': '20:15-19:30'},\n",
       "   {'semester': 'סמסטר ב', 'day': 'יום ג', 'hours': '20:15-19:30'},\n",
       "   {'semester': 'סמסטר ב', 'day': 'יום ג', 'hours': '20:15-19:30'},\n",
       "   {'semester': 'סמסטר ב', 'day': 'יום ג', 'hours': '20:15-19:30'},\n",
       "   {'semester': 'סמסטר ב', 'day': 'יום ג', 'hours': '20:15-19:30'},\n",
       "   {'semester': 'סמסטר ב', 'day': 'יום ג', 'hours': '20:15-19:30'}]},\n",
       " [['57256'], ['57670'], ['57642'], ['57132']])"
      ]
     },
     "execution_count": 143,
     "metadata": {},
     "output_type": "execute_result"
    }
   ],
   "source": [
    "def data_gatherer(scraped_data):\n",
    "    \"\"\" Return (dictionary that contains all the courses per page, canceled courses)\"\"\"\n",
    "    database = dict()\n",
    "    canceled_courses = []\n",
    "    for course in scraped_data:\n",
    "        course_details = []\n",
    "        info_by_day = dict()\n",
    "\n",
    "\n",
    "        hours = (re.findall(r\"([0-5][0-9]:[0-5][0-9]-[0-5][0-9]:[0-5][0-9])\", course))\n",
    "        course_id = (re.findall(r\"\\|\\s{3}(\\d{5})\", course))\n",
    "        day = (re.findall(r\"\\n(יום [אבגדהו])\", course))\n",
    "        semester = (re.findall(r\"\\n(שנתי|סמסטר [אבגדהו])\", course))\n",
    "\n",
    "        #checking for canceled courses\n",
    "        if len(course_id) == 0 or len(hours) == 0:\n",
    "            if len(hours) == 0:\n",
    "                canceled_courses.append(course_id)\n",
    "            pass\n",
    "\n",
    "        else:\n",
    "            for item in range(len(hours)):\n",
    "                info_by_day[\"semester\"] = semester[item] \n",
    "                info_by_day[\"day\"] = day[item]\n",
    "                info_by_day[\"hours\"] = hours[item]\n",
    "                course_details.append(info_by_day)\n",
    "\n",
    "            database[course_id[0]] = course_details\n",
    "\n",
    "    canceled_courses = [x for x in canceled_courses if x != []]\n",
    "    return database, canceled_courses\n",
    "data_gatherer(scraped_data)"
   ]
  },
  {
   "cell_type": "code",
   "execution_count": 144,
   "metadata": {},
   "outputs": [],
   "source": [
    "#helper for regex\n",
    "# counter = 0\n",
    "# for i in scraped_data:\n",
    "#     print(counter)\n",
    "#     print(i,\"\\n\"+\"\\n\"+\"*******end of object********\"+\"\\n\"+\"\\n\")\n",
    "#     counter += 1"
   ]
  },
  {
   "cell_type": "code",
   "execution_count": null,
   "metadata": {},
   "outputs": [],
   "source": []
  }
 ],
 "metadata": {
  "kernelspec": {
   "display_name": "Python 3",
   "language": "python",
   "name": "python3"
  },
  "language_info": {
   "codemirror_mode": {
    "name": "ipython",
    "version": 3
   },
   "file_extension": ".py",
   "mimetype": "text/x-python",
   "name": "python",
   "nbconvert_exporter": "python",
   "pygments_lexer": "ipython3",
   "version": "3.8.3"
  }
 },
 "nbformat": 4,
 "nbformat_minor": 4
}
