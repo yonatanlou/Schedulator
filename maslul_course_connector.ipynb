{
 "cells": [
  {
   "cell_type": "code",
   "execution_count": 1,
   "metadata": {
    "colab": {
     "base_uri": "https://localhost:8080/",
     "height": 394
    },
    "id": "p3JA4ywsYW_B",
    "outputId": "eecea542-aea7-4bee-d019-5650df05f57e"
   },
   "outputs": [],
   "source": [
    "\n",
    "# set options to be headless, ..\n",
    "from selenium import webdriver\n",
    "from selenium.webdriver.common.by import By\n",
    "\n",
    "import re\n",
    "\n",
    "import pandas as pd\n",
    "import numpy as np\n",
    "import matplotlib.pyplot as plt\n",
    "\n",
    "from time import sleep\n",
    "from selenium import webdriver\n",
    "from selenium.webdriver.support.ui import Select\n",
    "\n",
    "#installation guide for selenium\n",
    "#https://medium.com/@shanyitan/how-to-install-selenium-and-run-it-successfully-via-jupyter-lab-c3f50d22a0d4"
   ]
  },
  {
   "cell_type": "markdown",
   "metadata": {},
   "source": [
    "I managed to make a dict = {maslul_id: courses}\n",
    "but i manage to do it only on one maslul - we need to deploy it for all the maslulim."
   ]
  },
  {
   "cell_type": "code",
   "execution_count": 11,
   "metadata": {},
   "outputs": [],
   "source": [
    "#gathering information function\n",
    "def gather(browser):\n",
    "    lst=[]\n",
    "    try:\n",
    "        x=1\n",
    "        while True: \n",
    "            x_pather = \"//*[@id='myBody']/table/tbody/tr/td/table/tbody/tr[5]/td/form/table/tbody/tr[3]/td/a[\"+str(x)+\"]\"\n",
    "            main = browser.find_element_by_xpath(x_pather)\n",
    "            x+=1\n",
    "            lst.append(main)\n",
    "    except:\n",
    "        lst.pop()\n",
    "    return lst"
   ]
  },
  {
   "cell_type": "code",
   "execution_count": 12,
   "metadata": {
    "id": "3XpR3qP3YVr5"
   },
   "outputs": [],
   "source": [
    "#gathering information function\n",
    "def gather_maslul_hug(browser):\n",
    "    print(\"in\")\n",
    "    sleep(0.4)\n",
    "    lst = []\n",
    "    try:    \n",
    "        hug_maslul_xpath = \"/html/body/table/tbody/tr/td/table/tbody/tr[5]/td/form/table/tbody/tr[3]/td/div[5]\"\n",
    "        hug_maslul = browser.find_element_by_xpath(hug_maslul_xpath)\n",
    "        lst.append(hug_maslul)\n",
    "    except:\n",
    "        print(\"hug_maslul_issue\")\n",
    "    \n",
    "#     try:\n",
    "#         hova_xpath = \"/html/body/table/tbody/tr/td/table/tbody/tr[5]/td/form/table/tbody/tr[3]/td/h2[1]/span\"\n",
    "#         hova = browser.find_element_by_xpath(hova_xpath)\n",
    "#         lst.append(hova)\n",
    "#     except:\n",
    "#         print(\"hova_not_found\")\n",
    "     \n",
    "\n",
    "    return lst"
   ]
  },
  {
   "cell_type": "code",
   "execution_count": 13,
   "metadata": {},
   "outputs": [],
   "source": [
    "def course_gatherer(scraped_data):\n",
    "    \"\"\" Return (dictionary that contains all the courses per page, canceled courses)\"\"\"\n",
    "    try:\n",
    "        name=re.findall(r\"(\\n[a-z,A-Z]\\D{2,}\\|)\", scraped_data)[0].split(\"|\")\n",
    "        name = re.sub(r\"[\\n\\t]*\", \"\", name[0]).replace(\"  \",\" \")\n",
    "\n",
    "    except:\n",
    "        name = 'no name'\n",
    "\n",
    "    course_id = (re.findall(r\"\\|\\s{3}(\\d{5})\", scraped_data))\n",
    "    if not course_id:\n",
    "        return 0\n",
    "    return course_id[0]"
   ]
  },
  {
   "cell_type": "markdown",
   "metadata": {
    "id": "4U3rFPMbYVr9"
   },
   "source": [
    "scraper"
   ]
  },
  {
   "cell_type": "code",
   "execution_count": 14,
   "metadata": {},
   "outputs": [
    {
     "name": "stdout",
     "output_type": "stream",
     "text": [
      "in\n",
      "in\n"
     ]
    }
   ],
   "source": [
    "#one pager tester\n",
    "browser = webdriver.Chrome()\n",
    "browser.get(\"https://shnaton.huji.ac.il/\")\n",
    "scraped_data = []\n",
    "hug_maslul_lst = []\n",
    "\n",
    "t = 0.9\n",
    "\n",
    "try:\n",
    "    select = Select(browser.find_element_by_id('faculty'))\n",
    "    select.select_by_value(str(\"07\")) #Pass value as string\n",
    "    sleep(t)\n",
    "\n",
    "    select = Select(browser.find_element_by_id('hugim'))\n",
    "    select.select_by_value(str(\"0824\"))\n",
    "    sleep(t)\n",
    "\n",
    "    select = Select(browser.find_element_by_id('maslul'))\n",
    "    select.select_by_value(str(\"7411\"))\n",
    "    sleep(t)\n",
    "\n",
    "    select = Select(browser.find_element_by_id('toar'))\n",
    "    select.select_by_value(str(\"1\"))\n",
    "    sleep(t)\n",
    "\n",
    "    select = Select(browser.find_element_by_id('shana'))\n",
    "    select.select_by_value('0')\n",
    "    sleep(t)\n",
    "\n",
    "    browser.find_element_by_css_selector(\"input[type='radio'][id='full']\").click()\n",
    "    sleep(t)\n",
    "\n",
    "    browser.find_element_by_css_selector(\"input[type='button'][value=' חפש ']\").click()\n",
    "except:\n",
    "    browser.get(\"https://shnaton.huji.ac.il/\")\n",
    "                        #collecting information\n",
    "try:\n",
    "    while True:#information gathering function here\n",
    "        browser.execute_script(\"window.scrollTo(0,document.body.scrollHeight)\")\n",
    "        sleep(t)\n",
    "        for i in gather_maslul_hug(browser):\n",
    "            hug_maslul_lst.append(i.text)\n",
    "        for i in gather(browser):\n",
    "            scraped_data.append(i.text)\n",
    "        sleep(t)\n",
    "        browser.find_element_by_xpath(\"//a[@title='העמוד הבא']\").click()\n",
    "except:\n",
    "    browser.get(\"https://shnaton.huji.ac.il/\")\n",
    "\n",
    "browser.close()"
   ]
  },
  {
   "cell_type": "code",
   "execution_count": 23,
   "metadata": {},
   "outputs": [
    {
     "data": {
      "text/plain": [
       "{'7411': [0,\n",
       "  '57639',\n",
       "  '52324',\n",
       "  '57322',\n",
       "  '57811',\n",
       "  '54121',\n",
       "  '57830',\n",
       "  '52221',\n",
       "  '52325',\n",
       "  '57107',\n",
       "  '52640',\n",
       "  '52710',\n",
       "  '74122',\n",
       "  '52747',\n",
       "  '57305',\n",
       "  '52700',\n",
       "  '57128',\n",
       "  '57516',\n",
       "  '57642',\n",
       "  '57132',\n",
       "  '57152',\n",
       "  '52220',\n",
       "  '57311',\n",
       "  '52755',\n",
       "  '57973',\n",
       "  '52113',\n",
       "  '57900',\n",
       "  '57670',\n",
       "  '57308',\n",
       "  '57257',\n",
       "  '57108',\n",
       "  '57736',\n",
       "  '57499',\n",
       "  '52411',\n",
       "  '52414',\n",
       "  '57255',\n",
       "  '52542',\n",
       "  '55803',\n",
       "  '57807',\n",
       "  '52568',\n",
       "  '57556',\n",
       "  '52112',\n",
       "  '52002',\n",
       "  '57676',\n",
       "  '57401',\n",
       "  '57256',\n",
       "  '52525',\n",
       "  '52571',\n",
       "  '52322',\n",
       "  '52304',\n",
       "  '57307',\n",
       "  '57200',\n",
       "  '57469',\n",
       "  '57643',\n",
       "  '57253']}"
      ]
     },
     "execution_count": 23,
     "metadata": {},
     "output_type": "execute_result"
    }
   ],
   "source": [
    "#scrape the maslul name\n",
    "maslul = (hug_maslul_lst[0].split(\"\\n\")[1])\n",
    "maslul = (re.findall(r\"\\((\\d+)\\)\",maslul))\n",
    "\n",
    "courses = []\n",
    "for i in scraped_data:\n",
    "    courses.append(course_gatherer(i))\n",
    "\n",
    "#remove duplicates\n",
    "courses = set(courses)\n",
    "courses = list(courses)\n",
    "\n",
    "maslul_courses = dict()\n",
    "maslul_courses[maslul[0]] = courses\n",
    "maslul_courses"
   ]
  }
 ],
 "metadata": {
  "colab": {
   "name": "Copy of courses_scraper-checkpoint.ipynb",
   "provenance": []
  },
  "kernelspec": {
   "display_name": "Python 3",
   "language": "python",
   "name": "python3"
  },
  "language_info": {
   "codemirror_mode": {
    "name": "ipython",
    "version": 3
   },
   "file_extension": ".py",
   "mimetype": "text/x-python",
   "name": "python",
   "nbconvert_exporter": "python",
   "pygments_lexer": "ipython3",
   "version": "3.8.3"
  }
 },
 "nbformat": 4,
 "nbformat_minor": 4
}
