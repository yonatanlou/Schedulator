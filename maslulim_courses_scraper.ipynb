{
 "cells": [
  {
   "cell_type": "markdown",
   "metadata": {},
   "source": [
    "### importing the libraries"
   ]
  },
  {
   "cell_type": "code",
   "execution_count": 1,
   "metadata": {},
   "outputs": [],
   "source": [
    "\n",
    "# set options to be headless, ..\n",
    "from selenium import webdriver\n",
    "from selenium.webdriver.common.by import By\n",
    "\n",
    "import re\n",
    "\n",
    "import pandas as pd\n",
    "import numpy as np\n",
    "import matplotlib.pyplot as plt\n",
    "\n",
    "from time import sleep\n",
    "from selenium import webdriver\n",
    "from selenium.webdriver.support.ui import Select\n",
    "\n",
    "#installation guide for selenium\n",
    "#https://medium.com/@shanyitan/how-to-install-selenium-and-run-it-successfully-via-jupyter-lab-c3f50d22a0d4"
   ]
  },
  {
   "cell_type": "markdown",
   "metadata": {},
   "source": [
    "##### lists for scraper use"
   ]
  },
  {
   "cell_type": "code",
   "execution_count": 5,
   "metadata": {},
   "outputs": [],
   "source": [
    "hug_by_fac = {'01': ['0255']}\n",
    "\n",
    "lst_toar = [0,1,2,3,4,5,6,7,8]"
   ]
  },
  {
   "cell_type": "markdown",
   "metadata": {},
   "source": [
    "#### course number gathering function"
   ]
  },
  {
   "cell_type": "code",
   "execution_count": 118,
   "metadata": {},
   "outputs": [],
   "source": [
    "#gathering information function\n",
    "from string import digits\n",
    "def number_gather(browser):\n",
    "    lst=[]\n",
    "    try:\n",
    "        x=1\n",
    "        for i in range(0,30):\n",
    "            try:\n",
    "                x_pather = '//*[@id=\"myBody\"]/table/tbody/tr/td/table/tbody/tr[5]/td/form/table[1]/tbody/tr[3]/td/a['+str(i)+']/table/tbody/tr/td[1]/table[1]/tbody/tr/td[3]/b'\n",
    "                main = browser.find_element_by_xpath(x_pather)\n",
    "                x+=1\n",
    "                main =''.join(c for c in main if c in digits)\n",
    "                lst.append(main)\n",
    "            except:\n",
    "                continue\n",
    "    except:\n",
    "        None\n",
    "    print(lst)\n",
    "    return lst"
   ]
  },
  {
   "cell_type": "markdown",
   "metadata": {},
   "source": [
    "## course numbers scraper\n",
    "##### creating a dictionary -> maslul:{toar1:{year1:[course1_id,course2_id,course3_id....],year2:[course1_id,course2_id,course3_id....],...},\n",
    "##### toar2:{year1:[course1_id,course2_id,course3_id....],year2:[course1_id,course2_id,course3_id....],...}}"
   ]
  },
  {
   "cell_type": "markdown",
   "metadata": {},
   "source": [
    "##### creating the dictionary"
   ]
  },
  {
   "cell_type": "code",
   "execution_count": 114,
   "metadata": {},
   "outputs": [],
   "source": [
    "maslul_dicto = {}"
   ]
  },
  {
   "cell_type": "code",
   "execution_count": 119,
   "metadata": {},
   "outputs": [
    {
     "name": "stdout",
     "output_type": "stream",
     "text": [
      "1\n",
      "pushing\n",
      "[]\n",
      "[]\n",
      "[]\n",
      "1\n",
      "pushing\n",
      "[]\n",
      "[]\n",
      "[]\n"
     ]
    }
   ],
   "source": [
    "browser = webdriver.Chrome()\n",
    "browser.get(\"https://shnaton.huji.ac.il/\")\n",
    "\n",
    "# lists for checkpoint\n",
    "hugim_checked = []\n",
    "faculty_checked = []\n",
    "maslul_checked = []\n",
    "\n",
    "\n",
    "for faculty in hug_by_fac.keys():\n",
    "    faculty_checked.append(faculty)\n",
    "    try:\n",
    "        sleep(0.5)\n",
    "        select = Select(browser.find_element_by_id('faculty'))\n",
    "        select.select_by_value(str(faculty)) #Pass value as string\n",
    "        sleep(0.5)\n",
    "\n",
    "        for hug in hug_by_fac[faculty]: \n",
    "            hugim_checked.append(hug)\n",
    "            sleep(0.5)\n",
    "            select = Select(browser.find_element_by_id('faculty'))\n",
    "            select.select_by_value(str(faculty)) #Pass value as string\n",
    "            sleep(0.5)\n",
    "            select = Select(browser.find_element_by_id('hugim'))\n",
    "            select.select_by_value(str(hug))\n",
    "            sleep(0.5)\n",
    "\n",
    "            maslul_options = browser.find_elements(By.XPATH,'//*[@name=\"maslul\"]/option')\n",
    "            #second loop over maslul\n",
    "            maslul_lst = []\n",
    "\n",
    "            for mas in maslul_options:\n",
    "                if mas.get_attribute(\"value\") == \"0\" or mas.text == \"בחרו חוג\" or mas.text == \"\":\n",
    "                    pass\n",
    "                else:\n",
    "                    maslul_lst.append(mas.get_attribute(\"value\")) \n",
    "            browser.get(\"https://shnaton.huji.ac.il/\")\n",
    "\n",
    "            for maslul in maslul_lst:\n",
    "                try:\n",
    "                    \n",
    "                    if maslul is not None:\n",
    "                        maslul_dicto[maslul]={}\n",
    "                        maslul_checked.append(maslul)\n",
    "                        \n",
    "                    sleep(0.5)\n",
    "                    select = Select(browser.find_element_by_id('faculty'))\n",
    "                    select.select_by_value(str(faculty)) #Pass value as string\n",
    "                    sleep(0.5)\n",
    "\n",
    "                    select = Select(browser.find_element_by_id('hugim'))\n",
    "                    select.select_by_value(str(hug))\n",
    "                    sleep(0.5)\n",
    "\n",
    "                    select = Select(browser.find_element_by_id('maslul'))\n",
    "                    select.select_by_value(str(maslul))\n",
    "                    sleep(0.5)\n",
    "\n",
    "                    for toar in lst_toar:\n",
    "                        try:\n",
    "                            sleep(0.5)\n",
    "                            maslul_dicto[maslul]={toar:{}}\n",
    "                            select = Select(browser.find_element_by_id('toar'))\n",
    "                            select.select_by_value(str(toar))\n",
    "                            sleep(0.5)\n",
    "                            for year in range(1,6):\n",
    "                                select = Select(browser.find_element_by_id('shana'))\n",
    "                                select.select_by_value(str(year))\n",
    "                                sleep(0.5)\n",
    "                                maslul_dicto[maslul][toar][year]:[]\n",
    "                                print(year)\n",
    "                                sleep(0.5)\n",
    "\n",
    "                                browser.find_element_by_css_selector(\"input[type='radio'][id='full']\").click()\n",
    "                                sleep(0.5)\n",
    "                                print('pushing')\n",
    "                                browser.find_element_by_css_selector(\"input[type='button'][value=' חפש ']\").click()\n",
    "                                \n",
    "                                #collecting information\n",
    "                                try:\n",
    "                                    while True:#information gathering function here\n",
    "                                        sleep(0.5)\n",
    "                                        print(number_gather(browser))\n",
    "                                        for i in number_gather(browser):\n",
    "                                            print(i)\n",
    "                                            maslul_dicto[maslul][toar][year].append(i)\n",
    "                                        browser.find_element_by_xpath(\"//a[@title='העמוד הבא']\").click()\n",
    "                                except:\n",
    "                                    browser.get(\"https://shnaton.huji.ac.il/\")\n",
    "\n",
    "                        except:\n",
    "                            continue\n",
    "                except:\n",
    "                    browser.get(\"https://shnaton.huji.ac.il/\")\n",
    "\n",
    "    except:\n",
    "        browser.close()\n",
    "        print(\"error in faculty:\"+str(faculty)+\"hug:\"+str(hug)+\"maslul:\"+str(maslul)+\"toar:\"+str(toar))\n",
    "browser.close()"
   ]
  },
  {
   "cell_type": "code",
   "execution_count": 120,
   "metadata": {},
   "outputs": [
    {
     "name": "stdout",
     "output_type": "stream",
     "text": [
      "{8: {}}\n"
     ]
    }
   ],
   "source": [
    "print(maslul_dicto['1500'])"
   ]
  }
 ],
 "metadata": {
  "kernelspec": {
   "display_name": "Python 3",
   "language": "python",
   "name": "python3"
  },
  "language_info": {
   "codemirror_mode": {
    "name": "ipython",
    "version": 3
   },
   "file_extension": ".py",
   "mimetype": "text/x-python",
   "name": "python",
   "nbconvert_exporter": "python",
   "pygments_lexer": "ipython3",
   "version": "3.7.3"
  }
 },
 "nbformat": 4,
 "nbformat_minor": 4
}
