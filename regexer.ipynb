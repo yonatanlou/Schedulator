{
 "cells": [
  {
   "cell_type": "code",
   "execution_count": 49,
   "metadata": {},
   "outputs": [
    {
     "name": "stdout",
     "output_type": "stream",
     "text": [
      "Collecting import-ipynb\n",
      "  Downloading import-ipynb-0.1.3.tar.gz (4.0 kB)\n",
      "Building wheels for collected packages: import-ipynb\n",
      "  Building wheel for import-ipynb (setup.py): started\n",
      "  Building wheel for import-ipynb (setup.py): finished with status 'done'\n",
      "  Created wheel for import-ipynb: filename=import_ipynb-0.1.3-py3-none-any.whl size=2979 sha256=005aa82bf8ca8c045e446f83f95950d26a7bce6da61486ee58802805631998ea\n",
      "  Stored in directory: c:\\users\\tomer\\appdata\\local\\pip\\cache\\wheels\\b1\\5e\\dc\\79780689896a056199b0b9f24471e3ee184fbd816df355d5f0\n",
      "Successfully built import-ipynb\n",
      "Installing collected packages: import-ipynb\n",
      "Successfully installed import-ipynb-0.1.3\n"
     ]
    }
   ],
   "source": [
    "!pip install import-ipynb\n",
    "# set options to be headless, ..\n",
    "from selenium import webdriver\n",
    "from selenium.webdriver.common.by import By\n",
    "\n",
    "import re\n",
    "\n",
    "import pandas as pd\n",
    "import numpy as np\n",
    "import matplotlib.pyplot as plt\n",
    "\n",
    "from time import sleep\n",
    "from selenium import webdriver\n",
    "from selenium.webdriver.support.ui import Select\n",
    "\n",
    "#installation guide for selenium\n",
    "#https://medium.com/@shanyitan/how-to-install-selenium-and-run-it-successfully-via-jupyter-lab-c3f50d22a0d4"
   ]
  },
  {
   "cell_type": "markdown",
   "metadata": {},
   "source": [
    "#### regexing"
   ]
  },
  {
   "cell_type": "code",
   "execution_count": 51,
   "metadata": {},
   "outputs": [],
   "source": [
    "def data_gatherer(scraped_data):\n",
    "    \"\"\" Return (dictionary that contains all the courses per page, canceled courses)\"\"\"\n",
    "    database = dict()\n",
    "    canceled_courses = []\n",
    "    for course in scraped_data:\n",
    "        course_details = []\n",
    "        info_by_day = dict()\n",
    "        try:\n",
    "            name=re.findall(r\"(\\n[a-z,A-Z]\\D{2,}\\|)\", course)[0].split(\"|\")\n",
    "            name = re.sub(r\"[\\n\\t]*\", \"\", name[0]).replace(\"  \",\" \")\n",
    "\n",
    "        except:\n",
    "            name = 'no name'\n",
    "            \n",
    "        hours = (re.findall(r\"([0-5][0-9]:[0-5][0-9]-[0-5][0-9]:[0-5][0-9])\", course))\n",
    "        course_id = (re.findall(r\"\\|\\s{3}(\\d{5})\", course))\n",
    "        day = (re.findall(r\"\\n(יום [אבגדהו])\", course))\n",
    "        semester = (re.findall(r\"\\n(שנתי|סמסטר [אבגדהו])\", course))\n",
    "          \n",
    "        #checking for canceled courses\n",
    "        if len(course_id) == 0 or len(hours) == 0:\n",
    "            if len(hours) == 0:\n",
    "                canceled_courses.append([course_id,name])\n",
    "            pass\n",
    "\n",
    "        else:\n",
    "            for item in range(len(semester)):\n",
    "                info_by_day={}\n",
    "                info_by_day[\"semester\"] = semester[item] \n",
    "                try:\n",
    "                    info_by_day[\"day\"] = day[item]\n",
    "                except:\n",
    "                    info_by_day[\"day\"] = 'None'\n",
    "                try:\n",
    "                    info_by_day[\"hours\"] = hours[item]\n",
    "                except:\n",
    "                    info_by_day[\"hours\"] = 'None' \n",
    "                course_details.append(info_by_day)\n",
    "            database[course_id[0]] = {name:course_details}\n",
    "\n",
    "    canceled_courses = [x for x in canceled_courses if x != []]\n",
    "    return database, canceled_courses\n",
    "database, canceled_courses = data_gatherer(scraped_data)"
   ]
  },
  {
   "cell_type": "code",
   "execution_count": 56,
   "metadata": {},
   "outputs": [
    {
     "name": "stdout",
     "output_type": "stream",
     "text": [
      "\n",
      "\n",
      " number of active courses in updated scraper: 4712\n",
      "\n",
      "\n",
      " list of 1309\n"
     ]
    }
   ],
   "source": [
    "#sorting the courses dict\n",
    "\n",
    "database_sorted = {}\n",
    "for key, value in sorted(database.items()): # Note the () after items!\n",
    "    database_sorted[key] = value\n",
    "\n",
    "#removing duplicates and sorting removed\n",
    "dicto = {}\n",
    "for course in canceled_courses:\n",
    "    dicto[str(course)] = None\n",
    "canceled_sorted=sorted((dicto))\n",
    "print(\"\\n\\n number of active courses in updated scraper:\",len(database_sorted.keys()))\n",
    "print(\"\\n\\n list of \"+str(len(canceled_sorted)))\n",
    "\n"
   ]
  }
 ],
 "metadata": {
  "kernelspec": {
   "display_name": "Python 3",
   "language": "python",
   "name": "python3"
  },
  "language_info": {
   "codemirror_mode": {
    "name": "ipython",
    "version": 3
   },
   "file_extension": ".py",
   "mimetype": "text/x-python",
   "name": "python",
   "nbconvert_exporter": "python",
   "pygments_lexer": "ipython3",
   "version": "3.7.3"
  }
 },
 "nbformat": 4,
 "nbformat_minor": 4
}
