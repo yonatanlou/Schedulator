{
 "cells": [
  {
   "cell_type": "code",
   "execution_count": 23,
   "metadata": {},
   "outputs": [
    {
     "name": "stdout",
     "output_type": "stream",
     "text": [
      "Requirement already satisfied: import-ipynb in c:\\users\\admin\\anaconda3\\lib\\site-packages (0.1.3)\n"
     ]
    }
   ],
   "source": [
    "!pip install import-ipynb\n",
    "# set options to be headless, ..\n",
    "from selenium import webdriver\n",
    "from selenium.webdriver.common.by import By\n",
    "\n",
    "import re\n",
    "\n",
    "import pandas as pd\n",
    "import numpy as np\n",
    "import matplotlib.pyplot as plt\n",
    "\n",
    "from time import sleep\n",
    "from selenium import webdriver\n",
    "from selenium.webdriver.support.ui import Select\n",
    "\n",
    "#installation guide for selenium\n",
    "#https://medium.com/@shanyitan/how-to-install-selenium-and-run-it-successfully-via-jupyter-lab-c3f50d22a0d4"
   ]
  },
  {
   "cell_type": "markdown",
   "metadata": {},
   "source": [
    "#### regexing"
   ]
  },
  {
   "cell_type": "code",
   "execution_count": 51,
   "metadata": {},
   "outputs": [],
   "source": [
    "def data_gatherer(scraped_data):\n",
    "    \"\"\" Return (dictionary that contains all the courses per page, canceled courses)\"\"\"\n",
    "    database = dict()\n",
    "    canceled_courses = []\n",
    "    for course in scraped_data:\n",
    "        course_details = []\n",
    "        info_by_day = dict()\n",
    "        try:\n",
    "            name=re.findall(r\"(\\n[a-z,A-Z]\\D{2,}\\|)\", course)[0].split(\"|\")\n",
    "            name = re.sub(r\"[\\n\\t]*\", \"\", name[0]).replace(\"  \",\" \")\n",
    "\n",
    "        except:\n",
    "            name = 'no name'\n",
    "            \n",
    "        hours = (re.findall(r\"([0-5][0-9]:[0-5][0-9]-[0-5][0-9]:[0-5][0-9])\", course))\n",
    "        course_id = (re.findall(r\"\\|\\s{3}(\\d{5})\", course))\n",
    "        day = (re.findall(r\"\\n(יום [אבגדהו])\", course))\n",
    "        semester = (re.findall(r\"\\n(שנתי|סמסטר [אבגדהו])\", course))\n",
    "          \n",
    "        #checking for canceled courses\n",
    "        if len(course_id) == 0 or len(hours) == 0:\n",
    "            if len(hours) == 0:\n",
    "                canceled_courses.append([course_id,name])\n",
    "            pass\n",
    "\n",
    "        else:\n",
    "            for item in range(len(semester)):\n",
    "                info_by_day={}\n",
    "                info_by_day[\"semester\"] = semester[item] \n",
    "                try:\n",
    "                    info_by_day[\"day\"] = day[item]\n",
    "                except:\n",
    "                    info_by_day[\"day\"] = 'None'\n",
    "                try:\n",
    "                    info_by_day[\"hours\"] = hours[item]\n",
    "                except:\n",
    "                    info_by_day[\"hours\"] = 'None' \n",
    "                course_details.append(info_by_day)\n",
    "            database[course_id[0]] = {name:course_details}\n",
    "\n",
    "    canceled_courses = [x for x in canceled_courses if x != []]\n",
    "    return database, canceled_courses\n",
    "database, canceled_courses = data_gatherer(scraped_data)"
   ]
  },
  {
   "cell_type": "markdown",
   "metadata": {},
   "source": [
    "New regexer"
   ]
  },
  {
   "cell_type": "code",
   "execution_count": 26,
   "metadata": {},
   "outputs": [
    {
     "name": "stdout",
     "output_type": "stream",
     "text": [
      "problem with sug in course: AMIRIM MEETING CLUB מועדון \"אמירים\"   ['08247']\n",
      "problem with lecturer in course: AMIRIM MEETING CLUB מועדון \"אמירים\"   ['08247']\n",
      "problem with group in course: AMIRIM MEETING CLUB מועדון \"אמירים\"   ['08247']\n",
      "problem with sug in course: INDONESIAN FOR BEGINNERS אינדונזית למתחילים   ['35124']\n",
      "problem with lecturer in course: INDONESIAN FOR BEGINNERS אינדונזית למתחילים   ['35124']\n",
      "problem with group in course: INDONESIAN FOR BEGINNERS אינדונזית למתחילים   ['35124']\n",
      "problem with sug in course: INDONESIAN FOR BEGINNERS אינדונזית למתחילים   ['35124']\n",
      "problem with lecturer in course: INDONESIAN FOR BEGINNERS אינדונזית למתחילים   ['35124']\n",
      "problem with sug in course: INDONESIAN FOR BEGINNERS אינדונזית למתחילים   ['35124']\n",
      "problem with lecturer in course: INDONESIAN FOR BEGINNERS אינדונזית למתחילים   ['35124']\n",
      "problem with sug in course: INDONESIAN FOR BEGINNERS אינדונזית למתחילים   ['35124']\n",
      "problem with lecturer in course: INDONESIAN FOR BEGINNERS אינדונזית למתחילים   ['35124']\n"
     ]
    }
   ],
   "source": [
    "def data_gatherer(scraped_data):\n",
    "    \"\"\" Return (dictionary that contains all the courses per page, canceled courses):\n",
    "    database = {course_id:{(course_name, lecturer, sug, group): [{semester:, day:, hours:}]}}\n",
    "    \"\"\"\n",
    "    database = dict()\n",
    "    canceled_courses = []\n",
    "    \n",
    "    for course in scraped_data:\n",
    "        course_details = []\n",
    "        info_by_day = dict()\n",
    "        try:\n",
    "            name=re.findall(r\"(\\n[a-z,A-Z]\\D{2,}\\|)\", course)[0].split(\"|\")\n",
    "            name = re.sub(r\"[\\n\\t]*\", \"\", name[0]).replace(\"  \",\" \")\n",
    "\n",
    "        except:\n",
    "            name = 'no name'\n",
    "            \n",
    "        course_id = (re.findall(r\"\\|\\s{3}(\\d{5})\", course))    \n",
    "        hours = re.findall(r\"([0-5][0-9]:[0-5][0-9]-[0-5][0-9]:[0-5][0-9])\", course)  \n",
    "        #checking for canceled courses\n",
    "        if len(course_id) == 0 or len(hours) == 0:\n",
    "            if len(hours) == 0:\n",
    "                canceled_courses.append([course_id,name])\n",
    "            pass\n",
    "        \n",
    "        else:\n",
    "            paragraphs = re.findall(r\"\\n((?:\\n.+)+)\", course) #every paragraph supposed to be diffrent sug\n",
    "            hours, day, semester, sug_lecturer, group = [], [], [], [], []\n",
    "            for cell in paragraphs:\n",
    "                hours.append(re.findall(r\"([0-5][0-9]:[0-5][0-9]-[0-5][0-9]:[0-5][0-9])\", cell))\n",
    "                day.append(re.findall(r\"\\n(יום [אבגדהו])\", cell))\n",
    "                semester.append(re.findall(r\"\\n(שנתי|סמסטר [אבגדהו])\", cell))\n",
    "                sug_lecturer.append(re.findall(r\"(תרג|שות|מטלה|הדר|שעור|מעב|שומ)(.+)\", cell))#maybe there is more sugim\n",
    "                group.append(re.findall(r\"(?<=\\().?(?=\\))\", cell))\n",
    "\n",
    "\n",
    "\n",
    "        \n",
    "\n",
    "            for i in range(len(hours)):\n",
    "                for j in range(len(i)):\n",
    "                info_by_day={}\n",
    "                try:\n",
    "                    info_by_day[\"semester\"] = semester[item] \n",
    "                except:\n",
    "                    info_by_day[\"semester\"] = 'None'\n",
    "                try:\n",
    "                    info_by_day[\"day\"] = day[item]\n",
    "                except:\n",
    "                    info_by_day[\"day\"] = 'None'\n",
    "                try:\n",
    "                    info_by_day[\"hours\"] = hours[item]\n",
    "                except:\n",
    "                    info_by_day[\"hours\"] = 'None' \n",
    "                course_details.append(info_by_day)\n",
    "                \n",
    "                try:\n",
    "                    sug = sug_lecturer[0][0]\n",
    "                except:\n",
    "                    print(f\"problem with sug in course: {name} {course_id}\")\n",
    "                    sug = \"None\"\n",
    "                try:\n",
    "                    lecturer = sug_lecturer[0][1]\n",
    "                except:\n",
    "                    print(f\"problem with lecturer in course: {name} {course_id}\")\n",
    "                    lecturer = \"None\"\n",
    "                try:\n",
    "                    group = group[0]\n",
    "                except:\n",
    "                    print(f\"problem with group in course: {name} {course_id}\")\n",
    "                    group = \"None\"\n",
    "                    \n",
    "            database[course_id[0]] = {(name, lecturer, sug, group[0]):course_details}\n",
    "\n",
    "    canceled_courses = [x for x in canceled_courses if x != []]\n",
    "    return database, canceled_courses\n",
    "database, canceled_courses = data_gatherer(scraped_data)"
   ]
  },
  {
   "cell_type": "code",
   "execution_count": 88,
   "metadata": {},
   "outputs": [
    {
     "name": "stdout",
     "output_type": "stream",
     "text": [
      "problem with sug in course: AMIRIM MEETING CLUB מועדון \"אמירים\"   ['08247']\n",
      "problem with lecturer in course: AMIRIM MEETING CLUB מועדון \"אמירים\"   ['08247']\n"
     ]
    }
   ],
   "source": [
    "def data_gatherer(scraped_data):\n",
    "    \"\"\" Return (dictionary that contains all the courses per page, canceled courses):\n",
    "    database = {course_id:{(course_name, lecturer, sug, group): [{semester:, day:, hours:}]}}\n",
    "    \"\"\"\n",
    "    database = dict()\n",
    "    canceled_courses = []\n",
    "    \n",
    "    for course in scraped_data:\n",
    "        \n",
    "        course_details = []\n",
    "        info_by_day = dict()\n",
    "        try:\n",
    "            name=re.findall(r\"(\\n[a-z,A-Z]\\D{2,}\\|)\", course)[0].split(\"|\")\n",
    "            name = re.sub(r\"[\\n\\t]*\", \"\", name[0]).replace(\"  \",\" \")\n",
    "   \n",
    "        except:\n",
    "            name = 'no name'\n",
    "         \n",
    "        #finding the constants of the courses\n",
    "        course_id = (re.findall(r\"\\|\\s{3}(\\d{5})\", course))#need to improve it\n",
    "        hours = re.findall(r\"([0-5][0-9]:[0-5][0-9]-[0-5][0-9]:[0-5][0-9])\", course)  \n",
    "        sug_lecturer = (re.findall(r\"(תרג|שות|מטלה|הדר|שעור|מעב|שומ)(.+)\", course))#maybe there is more sugim\n",
    "        group = (re.findall(r\"(?<=\\().?(?=\\))\", course))\n",
    "        \n",
    "        #checking for canceled courses\n",
    "        if len(course_id) == 0 or len(hours) == 0:\n",
    "            if len(hours) == 0:\n",
    "                canceled_courses.append([course_id,name])\n",
    "            pass\n",
    "        \n",
    "        #Find the changing hours within the course\n",
    "        else:\n",
    "            paragraphs = re.findall(r\"\\n((?:\\n.+)+)\", course) #every paragraph supposed to be diffrent sug\n",
    "            hours, day, semester = [], [], []\n",
    "            for cell in paragraphs:\n",
    "                hours.append(re.findall(r\"([0-5][0-9]:[0-5][0-9]-[0-5][0-9]:[0-5][0-9])\", cell))\n",
    "                day.append(re.findall(r\"\\n(יום [אבגדהו])\", cell))\n",
    "                semester.append(re.findall(r\"\\n(שנתי|סמסטר [אבגדהו])\", cell))\n",
    "        \n",
    "            try:\n",
    "                sug = sug_lecturer[0][0]\n",
    "            except:\n",
    "                print(f\"problem with sug in course: {name} {course_id}\")\n",
    "                sug = \"None\"\n",
    "            try:\n",
    "                lecturer = sug_lecturer[0][1]\n",
    "            except:\n",
    "                print(f\"problem with lecturer in course: {name} {course_id}\")\n",
    "                lecturer = \"None\"\n",
    "            try:\n",
    "                group = group[0]\n",
    "            except:\n",
    "                print(f\"problem with group in course: {name} {course_id}\")\n",
    "                group = \"None\"\n",
    "\n",
    "        \n",
    "            for i in range(len(hours)):\n",
    "                info_by_day={}\n",
    "                for j in range(len(hours[i])):\n",
    "                    \n",
    "                    try:\n",
    "                        info_by_day[\"semester\"] = semester[i][j] \n",
    "                    except:\n",
    "                        info_by_day[\"semester\"] = 'None'\n",
    "                    try:\n",
    "                        info_by_day[\"day\"] = day[i][j] \n",
    "                    except:\n",
    "                        info_by_day[\"day\"] = 'None'\n",
    "                    try:\n",
    "                        info_by_day[\"hours\"] = hours[i][j] \n",
    "                    except:\n",
    "                        info_by_day[\"hours\"] = 'None' \n",
    "                    course_details.append(info_by_day)\n",
    "\n",
    "                    \n",
    "            database[course_id[0]] = {(name, lecturer, sug, group):course_details}\n",
    "\n",
    "    canceled_courses = [x for x in canceled_courses if x != []]\n",
    "    return database, canceled_courses\n",
    "database, canceled_courses = data_gatherer(scraped_data)"
   ]
  },
  {
   "cell_type": "code",
   "execution_count": 49,
   "metadata": {},
   "outputs": [],
   "source": [
    "scraped_data = []\n",
    "with open('text_sample.txt', 'r') as f:\n",
    "    for line in f:\n",
    "        content = json.loads(line)\n",
    "        for c in content:\n",
    "            scraped_data.append(c)\n",
    "scraped_data = scraped_data[5:]           "
   ]
  },
  {
   "cell_type": "code",
   "execution_count": 81,
   "metadata": {},
   "outputs": [
    {
     "name": "stdout",
     "output_type": "stream",
     "text": [
      "\n",
      "\n",
      " number of active courses in updated scraper: 24\n",
      "\n",
      "\n",
      " list of 1\n"
     ]
    }
   ],
   "source": [
    "#sorting the courses dict\n",
    "\n",
    "database_sorted = {}\n",
    "for key, value in sorted(database.items()): # Note the () after items!\n",
    "    database_sorted[key] = value\n",
    "\n",
    "#removing duplicates and sorting removed\n",
    "dicto = {}\n",
    "for course in canceled_courses:\n",
    "    dicto[str(course)] = None\n",
    "canceled_sorted=sorted((dicto))\n",
    "print(\"\\n\\n number of active courses in updated scraper:\",len(database_sorted.keys()))\n",
    "print(\"\\n\\n list of \"+str(len(canceled_sorted)))\n",
    "\n"
   ]
  },
  {
   "cell_type": "code",
   "execution_count": 82,
   "metadata": {},
   "outputs": [
    {
     "name": "stdout",
     "output_type": "stream",
     "text": [
      "[[[], 'no name']]\n"
     ]
    }
   ],
   "source": [
    "print(canceled_courses)"
   ]
  },
  {
   "cell_type": "code",
   "execution_count": 85,
   "metadata": {},
   "outputs": [],
   "source": [
    "# for i in scraped_data:\n",
    "#     print(i)\n",
    "#     print(\"******************\")"
   ]
  },
  {
   "cell_type": "code",
   "execution_count": 83,
   "metadata": {},
   "outputs": [
    {
     "name": "stdout",
     "output_type": "stream",
     "text": [
      "08154, {('The Israeli Palestinian Conflict הקונפליקט הישראלי פלסטיני  ', ' ד\"ר אביגיל יעקבסון', 'שות', 'א'): [{'semester': 'סמסטר ב', 'day': 'יום ה', 'hours': '12:15-10:30'}]}\n",
      "08214, {('ACADEMIC WRITING IN ENGLISH FOR AMIRIM STUDENTS כתיבה אקדמית באנגלית לתלמידי אמירים  ', ' גב חיה פישר', 'תרג', 'א'): [{'semester': 'שנתי', 'day': 'יום ה', 'hours': '14:15-12:30'}]}\n",
      "08216, {('France: From Rationalism to Realism צרפת: מרציונליזם לריאליזם  ', ' פרופ יואב רינון', 'שות', 'א'): [{'semester': 'סמסטר ב', 'day': 'יום ג', 'hours': '18:15-16:30'}]}\n",
      "08231, {('THE GOOD AND THE HAPPY: THEMES IN GREEK ETHICS הטובים והמאושרים: סוגיות באתיקה יוונית  ', ' ד\"ר נלי טאלר', 'שות', 'א'): [{'semester': 'סמסטר א', 'day': 'יום ג', 'hours': '20:15-18:30'}]}\n",
      "08240, {('Text and Context - The Biblical Literature ספרות המקרא: טקסט וקונטקסט  ', ' ד\"ר רוני גולדשטיין', 'שות', 'א'): [{'semester': 'סמסטר א', 'day': 'יום ג', 'hours': '18:15-16:30'}]}\n",
      "08242, {('Directed Readings קריאה מודרכת  ', ' גב מעיין רווה', 'תרג', 'א'): [{'semester': 'סמסטר א', 'day': 'יום ד', 'hours': '14:15-12:30'}]}\n",
      "08243, {('no name', ' ד\"ר ענת הלמן', 'שות', 'א'): [{'semester': 'סמסטר ב', 'day': 'יום ג', 'hours': '20:15-18:30'}]}\n",
      "08247, {('AMIRIM MEETING CLUB מועדון \"אמירים\"  ', 'None', 'None', 'א'): []}\n",
      "08274, {('Processes of Urbanism in the Levantine Bronze Age גיאות ושפל? תהליכי עיור בלבנט בתקופת הברונזה  ', ' ד\"ר נעמה יהלום-מאק', 'שות', 'א'): [{'semester': 'סמסטר ב', 'day': 'יום ה', 'hours': '18:15-16:30'}]}\n",
      "31000, {('no name', \" מר ג'ורג'ו פוביני\", 'תרג', 'א'): [{'semester': 'סמסטר א', 'day': 'יום ג', 'hours': '10:15-08:30'}, {'semester': 'סמסטר א', 'day': 'יום ג', 'hours': '10:15-08:30'}, {'semester': 'סמסטר א', 'day': 'יום ד', 'hours': '10:15-08:30'}, {'semester': 'סמסטר א', 'day': 'יום ד', 'hours': '10:15-08:30'}]}\n",
      "31001, {('no name', ' קדם   מועדי בחינות תכניות לימודים אתר הקורס סילבוס / Syllabus', 'שות', 'א'): [{'semester': 'סמסטר ב', 'day': 'יום ג', 'hours': '10:15-08:30'}, {'semester': 'סמסטר ב', 'day': 'יום ג', 'hours': '10:15-08:30'}, {'semester': 'סמסטר ב', 'day': 'יום ד', 'hours': '10:15-08:30'}, {'semester': 'סמסטר ב', 'day': 'יום ד', 'hours': '10:15-08:30'}]}\n",
      "31020, {('no name', ' גב מריה קפלושניק', 'תרג', 'א'): [{'semester': 'סמסטר א', 'day': 'יום ד', 'hours': '10:15-08:30'}, {'semester': 'סמסטר א', 'day': 'יום ד', 'hours': '10:15-08:30'}, {'semester': 'סמסטר א', 'day': 'יום ד', 'hours': '10:15-08:30'}, {'semester': 'סמסטר א', 'day': 'יום ד', 'hours': '10:15-08:30'}, {'semester': 'סמסטר א', 'day': 'יום ד', 'hours': '20:15-18:30'}, {'semester': 'סמסטר א', 'day': 'יום ד', 'hours': '20:15-18:30'}]}\n",
      "31021, {('no name', ' קדם   מועדי בחינות תכניות לימודים אתר הקורס סילבוס / Syllabus', 'שות', 'א'): [{'semester': 'סמסטר ב', 'day': 'יום ד', 'hours': '10:15-08:30'}, {'semester': 'סמסטר ב', 'day': 'יום ד', 'hours': '10:15-08:30'}, {'semester': 'סמסטר ב', 'day': 'יום ד', 'hours': '10:15-08:30'}, {'semester': 'סמסטר ב', 'day': 'יום ד', 'hours': '10:15-08:30'}, {'semester': 'סמסטר ב', 'day': 'יום ד', 'hours': '20:15-18:30'}, {'semester': 'סמסטר ב', 'day': 'יום ד', 'hours': '20:15-18:30'}]}\n",
      "31040, {('no name', ' מר יונתן בן דנון', 'תרג', 'א'): [{'semester': 'סמסטר א', 'day': 'יום ד', 'hours': '18:15-16:30'}, {'semester': 'סמסטר א', 'day': 'יום ד', 'hours': '18:15-16:30'}, {'semester': 'סמסטר א', 'day': 'יום ד', 'hours': '20:15-18:30'}, {'semester': 'סמסטר א', 'day': 'יום ד', 'hours': '20:15-18:30'}, {'semester': 'סמסטר א', 'day': 'יום ה', 'hours': '10:15-08:30'}, {'semester': 'סמסטר א', 'day': 'יום ה', 'hours': '10:15-08:30'}]}\n",
      "31041, {('no name', ' קדם   מועדי בחינות תכניות לימודים אתר הקורס סילבוס / Syllabus', 'שות', 'א'): [{'semester': 'סמסטר ב', 'day': 'יום ד', 'hours': '18:15-16:30'}, {'semester': 'סמסטר ב', 'day': 'יום ד', 'hours': '18:15-16:30'}, {'semester': 'סמסטר ב', 'day': 'יום ד', 'hours': '20:15-18:30'}, {'semester': 'סמסטר ב', 'day': 'יום ד', 'hours': '20:15-18:30'}, {'semester': 'סמסטר ב', 'day': 'יום ה', 'hours': '10:15-08:30'}, {'semester': 'סמסטר ב', 'day': 'יום ה', 'hours': '10:15-08:30'}]}\n",
      "31060, {('no name', ' גב אנה נוסבאום', 'תרג', 'א'): [{'semester': 'סמסטר א', 'day': 'יום ד', 'hours': '10:15-08:30'}, {'semester': 'סמסטר א', 'day': 'יום ד', 'hours': '10:15-08:30'}, {'semester': 'סמסטר א', 'day': 'יום ד', 'hours': '18:15-16:30'}, {'semester': 'סמסטר א', 'day': 'יום ד', 'hours': '18:15-16:30'}, {'semester': 'סמסטר א', 'day': 'יום ה', 'hours': '10:15-08:30'}, {'semester': 'סמסטר א', 'day': 'יום ה', 'hours': '10:15-08:30'}]}\n",
      "31061, {('no name', ' קדם   מועדי בחינות תכניות לימודים אתר הקורס סילבוס / Syllabus', 'שות', 'א'): [{'semester': 'סמסטר ב', 'day': 'יום ד', 'hours': '10:15-08:30'}, {'semester': 'סמסטר ב', 'day': 'יום ד', 'hours': '10:15-08:30'}, {'semester': 'סמסטר ב', 'day': 'יום ד', 'hours': '18:15-16:30'}, {'semester': 'סמסטר ב', 'day': 'יום ד', 'hours': '18:15-16:30'}, {'semester': 'סמסטר ב', 'day': 'יום ה', 'hours': '10:15-08:30'}, {'semester': 'סמסטר ב', 'day': 'יום ה', 'hours': '10:15-08:30'}]}\n",
      "31080, {('no name', ' גב אנה פארפל-ליטובסקי', 'תרג', 'א'): [{'semester': 'סמסטר א', 'day': 'יום ה', 'hours': '16:15-14:30'}, {'semester': 'סמסטר א', 'day': 'יום ה', 'hours': '16:15-14:30'}]}\n",
      "31081, {('no name', ' קדם   מועדי בחינות תכניות לימודים אתר הקורס סילבוס / Syllabus', 'שות', 'א'): [{'semester': 'סמסטר ב', 'day': 'יום ה', 'hours': '16:15-14:30'}, {'semester': 'סמסטר ב', 'day': 'יום ה', 'hours': '16:15-14:30'}]}\n",
      "31100, {('no name', ' גב אנה וולפסון', 'תרג', 'א'): [{'semester': 'סמסטר א', 'day': 'יום ה', 'hours': '10:15-08:30'}, {'semester': 'סמסטר א', 'day': 'יום ה', 'hours': '10:15-08:30'}, {'semester': 'סמסטר א', 'day': 'יום ה', 'hours': '10:15-08:30'}, {'semester': 'סמסטר א', 'day': 'יום ה', 'hours': '14:15-12:30'}, {'semester': 'סמסטר א', 'day': 'יום ה', 'hours': '14:15-12:30'}, {'semester': 'סמסטר א', 'day': 'יום ה', 'hours': '14:15-12:30'}]}\n",
      "31101, {('no name', ' קדם   מועדי בחינות תכניות לימודים אתר הקורס סילבוס / Syllabus', 'שות', 'א'): [{'semester': 'סמסטר ב', 'day': 'יום ה', 'hours': '10:15-08:30'}, {'semester': 'סמסטר ב', 'day': 'יום ה', 'hours': '10:15-08:30'}, {'semester': 'סמסטר ב', 'day': 'יום ה', 'hours': '10:15-08:30'}, {'semester': 'סמסטר ב', 'day': 'יום ה', 'hours': '14:15-12:30'}, {'semester': 'סמסטר ב', 'day': 'יום ה', 'hours': '14:15-12:30'}, {'semester': 'סמסטר ב', 'day': 'יום ה', 'hours': '14:15-12:30'}]}\n",
      "31140, {('no name', \" גב מראם ג'ראיסי\", 'תרג', 'א'): [{'semester': 'סמסטר א', 'day': 'יום ה', 'hours': '10:15-08:30'}, {'semester': 'סמסטר א', 'day': 'יום ה', 'hours': '10:15-08:30'}, {'semester': 'סמסטר א', 'day': 'יום ה', 'hours': '10:15-08:30'}, {'semester': 'סמסטר א', 'day': 'יום ה', 'hours': '14:15-12:30'}, {'semester': 'סמסטר א', 'day': 'יום ה', 'hours': '14:15-12:30'}, {'semester': 'סמסטר א', 'day': 'יום ה', 'hours': '14:15-12:30'}]}\n",
      "31141, {('no name', ' קדם   מועדי בחינות תכניות לימודים אתר הקורס סילבוס / Syllabus', 'שות', 'א'): [{'semester': 'סמסטר ב', 'day': 'יום ה', 'hours': '10:15-08:30'}, {'semester': 'סמסטר ב', 'day': 'יום ה', 'hours': '10:15-08:30'}, {'semester': 'סמסטר ב', 'day': 'יום ה', 'hours': '10:15-08:30'}, {'semester': 'סמסטר ב', 'day': 'יום ה', 'hours': '14:15-12:30'}, {'semester': 'סמסטר ב', 'day': 'יום ה', 'hours': '14:15-12:30'}, {'semester': 'סמסטר ב', 'day': 'יום ה', 'hours': '14:15-12:30'}]}\n",
      "35124, {('INDONESIAN FOR BEGINNERS אינדונזית למתחילים  ', \" גב בטי סוסיארג'ו\", 'שות', 'א'): [{'semester': 'סמסטר ב', 'day': 'יום ג', 'hours': '12:15-10:30'}, {'semester': 'סמסטר ב', 'day': 'יום ג', 'hours': '12:15-10:30'}, {'semester': 'סמסטר ב', 'day': 'יום ג', 'hours': '12:15-10:30'}, {'semester': 'סמסטר ב', 'day': 'יום ג', 'hours': '12:15-10:30'}]}\n"
     ]
    }
   ],
   "source": [
    "for course_id, items in database_sorted.items():\n",
    "    print(course_id, items, sep=\", \")"
   ]
  },
  {
   "cell_type": "code",
   "execution_count": null,
   "metadata": {},
   "outputs": [],
   "source": []
  }
 ],
 "metadata": {
  "kernelspec": {
   "display_name": "Python 3",
   "language": "python",
   "name": "python3"
  },
  "language_info": {
   "codemirror_mode": {
    "name": "ipython",
    "version": 3
   },
   "file_extension": ".py",
   "mimetype": "text/x-python",
   "name": "python",
   "nbconvert_exporter": "python",
   "pygments_lexer": "ipython3",
   "version": "3.7.3"
  }
 },
 "nbformat": 4,
 "nbformat_minor": 4
}
