{
 "cells": [
  {
   "cell_type": "code",
   "execution_count": 1,
   "metadata": {},
   "outputs": [],
   "source": [
    "from time import sleep\n",
    "from selenium import webdriver\n",
    "from selenium.webdriver.support.ui import Select\n",
    "import requests\n",
    "from bs4 import BeautifulSoup\n",
    "import pandas as pd\n",
    "import numpy as np\n",
    "\n",
    "#installation guide for selenium\n",
    "#https://medium.com/@shanyitan/how-to-install-selenium-and-run-it-successfully-via-jupyter-lab-c3f50d22a0d4"
   ]
  },
  {
   "cell_type": "code",
   "execution_count": 21,
   "metadata": {},
   "outputs": [
    {
     "data": {
      "text/plain": [
       "<bound method WebDriver.close of <selenium.webdriver.chrome.webdriver.WebDriver (session=\"4c595821ac8313d8495da20c8abb5afb\")>>"
      ]
     },
     "execution_count": 21,
     "metadata": {},
     "output_type": "execute_result"
    }
   ],
   "source": [
    "browser = webdriver.Chrome()\n",
    "browser.get(\"https://shnaton.huji.ac.il/\")\n",
    "\n",
    "\n",
    "\n",
    "select = Select(browser.find_element_by_id('faculty'))\n",
    "select.select_by_value('07') #Pass value as string\n",
    "sleep(0.2)\n",
    "\n",
    "select = Select(browser.find_element_by_id('hugim'))\n",
    "select.select_by_value('0824')\n",
    "sleep(0.2)\n",
    "\n",
    "select = Select(browser.find_element_by_id('maslul'))\n",
    "select.select_by_value('7411')\n",
    "sleep(0.2)\n",
    "\n",
    "select = Select(browser.find_element_by_id('toar'))\n",
    "select.select_by_value('1')\n",
    "sleep(0.2)\n",
    "\n",
    "select = Select(browser.find_element_by_id('shana'))\n",
    "select.select_by_value('0')\n",
    "sleep(0.2)\n",
    "\n",
    "browser.find_element_by_css_selector(\"input[type='radio'][id='full']\").click()\n",
    "sleep(0.2)\n",
    "\n",
    "browser.find_element_by_css_selector(\"input[type='button'][value=' חפש ']\").click()\n",
    "\n",
    "html = browser.page_source\n",
    "\n",
    "\n",
    "browser.close"
   ]
  },
  {
   "cell_type": "code",
   "execution_count": 27,
   "metadata": {},
   "outputs": [],
   "source": [
    "soup = BeautifulSoup(html, \"lxml\")\n",
    "\n"
   ]
  },
  {
   "cell_type": "code",
   "execution_count": 28,
   "metadata": {},
   "outputs": [],
   "source": [
    "tables = [\n",
    "    [\n",
    "        [td.get_text(strip=True) for td in tr.find_all('td')] \n",
    "        for tr in table.find_all('tr')\n",
    "    ] \n",
    "    for table in soup.find_all('table')\n",
    "]"
   ]
  },
  {
   "cell_type": "code",
   "execution_count": 55,
   "metadata": {},
   "outputs": [],
   "source": [
    "def combination():\n",
    "    lst=[]\n",
    "    for i in range(0,10):\n",
    "        for j in range(0,10):\n",
    "            for m in range(0,10):\n",
    "                for n in range(0,10):\n",
    "                    lst.append(str(i)+str(j)+str(m)+str(n))\n",
    "    return lst"
   ]
  },
  {
   "cell_type": "code",
   "execution_count": null,
   "metadata": {},
   "outputs": [],
   "source": [
    "browser = webdriver.Chrome()\n",
    "\n",
    "browser.get(\"https://shnaton.huji.ac.il/\")\n",
    "\n",
    "for fac in range(2,10): \n",
    "    \n",
    "    select = Select(browser.find_element_by_id('faculty'))\n",
    "    select.select_by_value(str('0'+str(fac))) #Pass value as string\n",
    "    sleep(0.5)\n",
    "    \n",
    "    lst_hug = combination()\n",
    "    for hug in lst_hug:\n",
    "        try:\n",
    "            \n",
    "            lst_maslul = combination()\n",
    "            select = Select(browser.find_element_by_id('hugim'))\n",
    "            select.select_by_value(str(hug))\n",
    "            sleep(0.5)\n",
    "            for maslul in lst_maslul:\n",
    "                try:\n",
    "                    select = Select(browser.find_element_by_id('maslul'))\n",
    "                    select.select_by_value(maslul)\n",
    "                    sleep(0.5)\n",
    "                    for toar in range (1,5):\n",
    "                        try:\n",
    "                            select = Select(browser.find_element_by_id('toar'))\n",
    "                            select.select_by_value(str(toar))\n",
    "                            sleep(0.5)\n",
    "                        \n",
    "                        \n",
    "                            select = Select(browser.find_element_by_id('shana'))\n",
    "                            select.select_by_value('0')\n",
    "                            sleep(0.5)\n",
    "        \n",
    "                            browser.find_element_by_css_selector(\"input[type='radio'][id='full']\").click()\n",
    "                            sleep(0.5)\n",
    "        \n",
    "                            browser.find_element_by_css_selector(\"input[type='button'][value=' חפש ']\").click()\n",
    "                            browser.get(\"https://shnaton.huji.ac.il/\")\n",
    "                            \n",
    "                            \n",
    "                            select = Select(browser.find_element_by_id('faculty'))\n",
    "                            select.select_by_value(str('0'+str(fac))) #Pass value as string\n",
    "                            sleep(0.5)\n",
    "                            \n",
    "                            select = Select(browser.find_element_by_id('hugim'))\n",
    "                            select.select_by_value(str(hug))\n",
    "                            sleep(0.5)\n",
    "                            \n",
    "                            select = Select(browser.find_element_by_id('maslul'))\n",
    "                            select.select_by_value(maslul)\n",
    "                            sleep(0.5)\n",
    "                           \n",
    "                        except:\n",
    "                            continue\n",
    "                except:\n",
    "                    continue\n",
    "        except:\n",
    "            continue\n",
    "\n",
    "browser.close"
   ]
  }
 ],
 "metadata": {
  "kernelspec": {
   "display_name": "Python 3",
   "language": "python",
   "name": "python3"
  },
  "language_info": {
   "codemirror_mode": {
    "name": "ipython",
    "version": 3
   },
   "file_extension": ".py",
   "mimetype": "text/x-python",
   "name": "python",
   "nbconvert_exporter": "python",
   "pygments_lexer": "ipython3",
   "version": "3.8.3"
  }
 },
 "nbformat": 4,
 "nbformat_minor": 4
}
