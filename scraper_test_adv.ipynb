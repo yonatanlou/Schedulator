{
 "cells": [
  {
   "cell_type": "code",
   "execution_count": null,
   "metadata": {},
   "outputs": [],
   "source": [
    "# -*- coding: utf-8 -*-\n",
    "\"\"\"\n",
    "Created on Sun Sep 27 15:39:54 2020\n",
    "\n",
    "@author: tomer and yonatan\n",
    "\"\"\"\n",
    "from time import sleep\n",
    "from selenium import webdriver\n",
    "from selenium.webdriver.support.ui import Select\n"
   ]
  },
  {
   "cell_type": "code",
   "execution_count": null,
   "metadata": {},
   "outputs": [],
   "source": [
    "\n",
    "#posible hugim combinations\n",
    "def combination():\n",
    "    lst=[]\n",
    "    for i in range(0,10):\n",
    "        for j in range(0,10):\n",
    "            for m in range(0,10):\n",
    "                for n in range(0,10):\n",
    "                    lst.append(str(i)+str(j)+str(m)+str(n))\n",
    "    return lst\n",
    "\n"
   ]
  },
  {
   "cell_type": "code",
   "execution_count": null,
   "metadata": {},
   "outputs": [],
   "source": [
    "\n",
    "browser = webdriver.Chrome()\n",
    "browser.get(\"https://shnaton.huji.ac.il/\")\n",
    "\n",
    "for fac in range(2,10): \n",
    "    \n",
    "    select = Select(browser.find_element_by_id('faculty'))\n",
    "    select.select_by_value(str('0'+str(fac))) #Pass value as string\n",
    "    sleep(0.5)\n",
    "    \n",
    "    lst_hug = combination()\n",
    "    for hug in lst_hug:\n",
    "        try:\n",
    "            \n",
    "            lst_maslul = combination()\n",
    "            select = Select(browser.find_element_by_id('hugim'))\n",
    "            select.select_by_value(str(hug))\n",
    "            sleep(0.5)\n",
    "            for maslul in lst_maslul:\n",
    "                try:\n",
    "                    select = Select(browser.find_element_by_id('maslul'))\n",
    "                    select.select_by_value(maslul)\n",
    "                    sleep(0.5)\n",
    "                    for toar in range (1,5):\n",
    "                        try:\n",
    "                            select = Select(browser.find_element_by_id('toar'))\n",
    "                            select.select_by_value(str(toar))\n",
    "                            sleep(0.5)\n",
    "                        \n",
    "                        \n",
    "                            select = Select(browser.find_element_by_id('shana'))\n",
    "                            select.select_by_value('0')\n",
    "                            sleep(0.5)\n",
    "        \n",
    "                            browser.find_element_by_css_selector(\"input[type='radio'][id='full']\").click()\n",
    "                            sleep(0.5)\n",
    "        \n",
    "                            browser.find_element_by_css_selector(\"input[type='button'][value=' חפש ']\").click()\n",
    "                            browser.get(\"https://shnaton.huji.ac.il/\")\n",
    "                            \n",
    "                            \n",
    "                            select = Select(browser.find_element_by_id('faculty'))\n",
    "                            select.select_by_value(str('0'+str(fac))) #Pass value as string\n",
    "                            sleep(0.5)\n",
    "                            \n",
    "                            select = Select(browser.find_element_by_id('hugim'))\n",
    "                            select.select_by_value(str(hug))\n",
    "                            sleep(0.5)\n",
    "                            \n",
    "                            select = Select(browser.find_element_by_id('maslul'))\n",
    "                            select.select_by_value(maslul)\n",
    "                            sleep(0.5)\n",
    "                           \n",
    "                        except:\n",
    "                            continue\n",
    "                except:\n",
    "                    continue\n",
    "        except:\n",
    "            continue\n",
    "\n",
    "browser.close"
   ]
  },
  {
   "cell_type": "code",
   "execution_count": null,
   "metadata": {},
   "outputs": [],
   "source": []
  }
 ],
 "metadata": {
  "kernelspec": {
   "display_name": "Python 3",
   "language": "python",
   "name": "python3"
  },
  "language_info": {
   "codemirror_mode": {
    "name": "ipython",
    "version": 3
   },
   "file_extension": ".py",
   "mimetype": "text/x-python",
   "name": "python",
   "nbconvert_exporter": "python",
   "pygments_lexer": "ipython3",
   "version": "3.7.3"
  }
 },
 "nbformat": 4,
 "nbformat_minor": 4
}
